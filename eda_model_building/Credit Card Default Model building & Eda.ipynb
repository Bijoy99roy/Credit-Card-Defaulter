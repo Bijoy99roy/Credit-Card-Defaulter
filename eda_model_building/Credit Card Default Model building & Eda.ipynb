{
 "cells": [
  {
   "cell_type": "code",
   "execution_count": 35,
   "id": "600bcdd2",
   "metadata": {},
   "outputs": [],
   "source": [
    "import numpy as np\n",
    "import pandas as pd\n",
    "import seaborn as sns\n",
    "import matplotlib.pyplot as plt\n",
    "import pickle"
   ]
  },
  {
   "cell_type": "code",
   "execution_count": 2,
   "id": "856470ac",
   "metadata": {
    "scrolled": true
   },
   "outputs": [
    {
     "data": {
      "text/html": [
       "<div>\n",
       "<style scoped>\n",
       "    .dataframe tbody tr th:only-of-type {\n",
       "        vertical-align: middle;\n",
       "    }\n",
       "\n",
       "    .dataframe tbody tr th {\n",
       "        vertical-align: top;\n",
       "    }\n",
       "\n",
       "    .dataframe thead th {\n",
       "        text-align: right;\n",
       "    }\n",
       "</style>\n",
       "<table border=\"1\" class=\"dataframe\">\n",
       "  <thead>\n",
       "    <tr style=\"text-align: right;\">\n",
       "      <th></th>\n",
       "      <th>ID</th>\n",
       "      <th>LIMIT_BAL</th>\n",
       "      <th>SEX</th>\n",
       "      <th>EDUCATION</th>\n",
       "      <th>MARRIAGE</th>\n",
       "      <th>AGE</th>\n",
       "      <th>PAY_0</th>\n",
       "      <th>PAY_2</th>\n",
       "      <th>PAY_3</th>\n",
       "      <th>PAY_4</th>\n",
       "      <th>...</th>\n",
       "      <th>BILL_AMT4</th>\n",
       "      <th>BILL_AMT5</th>\n",
       "      <th>BILL_AMT6</th>\n",
       "      <th>PAY_AMT1</th>\n",
       "      <th>PAY_AMT2</th>\n",
       "      <th>PAY_AMT3</th>\n",
       "      <th>PAY_AMT4</th>\n",
       "      <th>PAY_AMT5</th>\n",
       "      <th>PAY_AMT6</th>\n",
       "      <th>default.payment.next.month</th>\n",
       "    </tr>\n",
       "  </thead>\n",
       "  <tbody>\n",
       "    <tr>\n",
       "      <th>0</th>\n",
       "      <td>1</td>\n",
       "      <td>20000.0</td>\n",
       "      <td>2</td>\n",
       "      <td>2</td>\n",
       "      <td>1</td>\n",
       "      <td>24</td>\n",
       "      <td>2</td>\n",
       "      <td>2</td>\n",
       "      <td>-1</td>\n",
       "      <td>-1</td>\n",
       "      <td>...</td>\n",
       "      <td>0.0</td>\n",
       "      <td>0.0</td>\n",
       "      <td>0.0</td>\n",
       "      <td>0.0</td>\n",
       "      <td>689.0</td>\n",
       "      <td>0.0</td>\n",
       "      <td>0.0</td>\n",
       "      <td>0.0</td>\n",
       "      <td>0.0</td>\n",
       "      <td>1</td>\n",
       "    </tr>\n",
       "    <tr>\n",
       "      <th>1</th>\n",
       "      <td>2</td>\n",
       "      <td>120000.0</td>\n",
       "      <td>2</td>\n",
       "      <td>2</td>\n",
       "      <td>2</td>\n",
       "      <td>26</td>\n",
       "      <td>-1</td>\n",
       "      <td>2</td>\n",
       "      <td>0</td>\n",
       "      <td>0</td>\n",
       "      <td>...</td>\n",
       "      <td>3272.0</td>\n",
       "      <td>3455.0</td>\n",
       "      <td>3261.0</td>\n",
       "      <td>0.0</td>\n",
       "      <td>1000.0</td>\n",
       "      <td>1000.0</td>\n",
       "      <td>1000.0</td>\n",
       "      <td>0.0</td>\n",
       "      <td>2000.0</td>\n",
       "      <td>1</td>\n",
       "    </tr>\n",
       "    <tr>\n",
       "      <th>2</th>\n",
       "      <td>3</td>\n",
       "      <td>90000.0</td>\n",
       "      <td>2</td>\n",
       "      <td>2</td>\n",
       "      <td>2</td>\n",
       "      <td>34</td>\n",
       "      <td>0</td>\n",
       "      <td>0</td>\n",
       "      <td>0</td>\n",
       "      <td>0</td>\n",
       "      <td>...</td>\n",
       "      <td>14331.0</td>\n",
       "      <td>14948.0</td>\n",
       "      <td>15549.0</td>\n",
       "      <td>1518.0</td>\n",
       "      <td>1500.0</td>\n",
       "      <td>1000.0</td>\n",
       "      <td>1000.0</td>\n",
       "      <td>1000.0</td>\n",
       "      <td>5000.0</td>\n",
       "      <td>0</td>\n",
       "    </tr>\n",
       "    <tr>\n",
       "      <th>3</th>\n",
       "      <td>4</td>\n",
       "      <td>50000.0</td>\n",
       "      <td>2</td>\n",
       "      <td>2</td>\n",
       "      <td>1</td>\n",
       "      <td>37</td>\n",
       "      <td>0</td>\n",
       "      <td>0</td>\n",
       "      <td>0</td>\n",
       "      <td>0</td>\n",
       "      <td>...</td>\n",
       "      <td>28314.0</td>\n",
       "      <td>28959.0</td>\n",
       "      <td>29547.0</td>\n",
       "      <td>2000.0</td>\n",
       "      <td>2019.0</td>\n",
       "      <td>1200.0</td>\n",
       "      <td>1100.0</td>\n",
       "      <td>1069.0</td>\n",
       "      <td>1000.0</td>\n",
       "      <td>0</td>\n",
       "    </tr>\n",
       "    <tr>\n",
       "      <th>4</th>\n",
       "      <td>5</td>\n",
       "      <td>50000.0</td>\n",
       "      <td>1</td>\n",
       "      <td>2</td>\n",
       "      <td>1</td>\n",
       "      <td>57</td>\n",
       "      <td>-1</td>\n",
       "      <td>0</td>\n",
       "      <td>-1</td>\n",
       "      <td>0</td>\n",
       "      <td>...</td>\n",
       "      <td>20940.0</td>\n",
       "      <td>19146.0</td>\n",
       "      <td>19131.0</td>\n",
       "      <td>2000.0</td>\n",
       "      <td>36681.0</td>\n",
       "      <td>10000.0</td>\n",
       "      <td>9000.0</td>\n",
       "      <td>689.0</td>\n",
       "      <td>679.0</td>\n",
       "      <td>0</td>\n",
       "    </tr>\n",
       "  </tbody>\n",
       "</table>\n",
       "<p>5 rows × 25 columns</p>\n",
       "</div>"
      ],
      "text/plain": [
       "   ID  LIMIT_BAL  SEX  EDUCATION  MARRIAGE  AGE  PAY_0  PAY_2  PAY_3  PAY_4  \\\n",
       "0   1    20000.0    2          2         1   24      2      2     -1     -1   \n",
       "1   2   120000.0    2          2         2   26     -1      2      0      0   \n",
       "2   3    90000.0    2          2         2   34      0      0      0      0   \n",
       "3   4    50000.0    2          2         1   37      0      0      0      0   \n",
       "4   5    50000.0    1          2         1   57     -1      0     -1      0   \n",
       "\n",
       "   ...  BILL_AMT4  BILL_AMT5  BILL_AMT6  PAY_AMT1  PAY_AMT2  PAY_AMT3  \\\n",
       "0  ...        0.0        0.0        0.0       0.0     689.0       0.0   \n",
       "1  ...     3272.0     3455.0     3261.0       0.0    1000.0    1000.0   \n",
       "2  ...    14331.0    14948.0    15549.0    1518.0    1500.0    1000.0   \n",
       "3  ...    28314.0    28959.0    29547.0    2000.0    2019.0    1200.0   \n",
       "4  ...    20940.0    19146.0    19131.0    2000.0   36681.0   10000.0   \n",
       "\n",
       "   PAY_AMT4  PAY_AMT5  PAY_AMT6  default.payment.next.month  \n",
       "0       0.0       0.0       0.0                           1  \n",
       "1    1000.0       0.0    2000.0                           1  \n",
       "2    1000.0    1000.0    5000.0                           0  \n",
       "3    1100.0    1069.0    1000.0                           0  \n",
       "4    9000.0     689.0     679.0                           0  \n",
       "\n",
       "[5 rows x 25 columns]"
      ]
     },
     "execution_count": 2,
     "metadata": {},
     "output_type": "execute_result"
    }
   ],
   "source": [
    "# Read the dataset\n",
    "df = pd.read_csv(\"UCI_Credit_Card.csv\")\n",
    "df_RAW = df.copy()\n",
    "df.head()"
   ]
  },
  {
   "cell_type": "code",
   "execution_count": 54,
   "id": "f76e6fc3",
   "metadata": {},
   "outputs": [
    {
     "data": {
      "text/html": [
       "<div>\n",
       "<style scoped>\n",
       "    .dataframe tbody tr th:only-of-type {\n",
       "        vertical-align: middle;\n",
       "    }\n",
       "\n",
       "    .dataframe tbody tr th {\n",
       "        vertical-align: top;\n",
       "    }\n",
       "\n",
       "    .dataframe thead th {\n",
       "        text-align: right;\n",
       "    }\n",
       "</style>\n",
       "<table border=\"1\" class=\"dataframe\">\n",
       "  <thead>\n",
       "    <tr style=\"text-align: right;\">\n",
       "      <th></th>\n",
       "      <th>ID</th>\n",
       "      <th>LIMIT_BAL</th>\n",
       "      <th>SEX</th>\n",
       "      <th>EDUCATION</th>\n",
       "      <th>MARRIAGE</th>\n",
       "      <th>AGE</th>\n",
       "      <th>PAY_0</th>\n",
       "      <th>PAY_2</th>\n",
       "      <th>PAY_3</th>\n",
       "      <th>PAY_4</th>\n",
       "      <th>...</th>\n",
       "      <th>BILL_AMT4</th>\n",
       "      <th>BILL_AMT5</th>\n",
       "      <th>BILL_AMT6</th>\n",
       "      <th>PAY_AMT1</th>\n",
       "      <th>PAY_AMT2</th>\n",
       "      <th>PAY_AMT3</th>\n",
       "      <th>PAY_AMT4</th>\n",
       "      <th>PAY_AMT5</th>\n",
       "      <th>PAY_AMT6</th>\n",
       "      <th>default.payment.next.month</th>\n",
       "    </tr>\n",
       "  </thead>\n",
       "  <tbody>\n",
       "    <tr>\n",
       "      <th>9</th>\n",
       "      <td>10</td>\n",
       "      <td>20000.0</td>\n",
       "      <td>1</td>\n",
       "      <td>3</td>\n",
       "      <td>2</td>\n",
       "      <td>35</td>\n",
       "      <td>-2</td>\n",
       "      <td>-2</td>\n",
       "      <td>-2</td>\n",
       "      <td>-2</td>\n",
       "      <td>...</td>\n",
       "      <td>0.0</td>\n",
       "      <td>13007.0</td>\n",
       "      <td>13912.0</td>\n",
       "      <td>0.0</td>\n",
       "      <td>0.0</td>\n",
       "      <td>0.0</td>\n",
       "      <td>13007.0</td>\n",
       "      <td>1122.0</td>\n",
       "      <td>0.0</td>\n",
       "      <td>0</td>\n",
       "    </tr>\n",
       "    <tr>\n",
       "      <th>23</th>\n",
       "      <td>24</td>\n",
       "      <td>450000.0</td>\n",
       "      <td>0</td>\n",
       "      <td>1</td>\n",
       "      <td>1</td>\n",
       "      <td>40</td>\n",
       "      <td>-2</td>\n",
       "      <td>-2</td>\n",
       "      <td>-2</td>\n",
       "      <td>-2</td>\n",
       "      <td>...</td>\n",
       "      <td>560.0</td>\n",
       "      <td>0.0</td>\n",
       "      <td>0.0</td>\n",
       "      <td>19428.0</td>\n",
       "      <td>1473.0</td>\n",
       "      <td>560.0</td>\n",
       "      <td>0.0</td>\n",
       "      <td>0.0</td>\n",
       "      <td>1128.0</td>\n",
       "      <td>1</td>\n",
       "    </tr>\n",
       "    <tr>\n",
       "      <th>33</th>\n",
       "      <td>34</td>\n",
       "      <td>500000.0</td>\n",
       "      <td>0</td>\n",
       "      <td>2</td>\n",
       "      <td>1</td>\n",
       "      <td>54</td>\n",
       "      <td>-2</td>\n",
       "      <td>-2</td>\n",
       "      <td>-2</td>\n",
       "      <td>-2</td>\n",
       "      <td>...</td>\n",
       "      <td>7521.0</td>\n",
       "      <td>71439.0</td>\n",
       "      <td>8981.0</td>\n",
       "      <td>4152.0</td>\n",
       "      <td>22827.0</td>\n",
       "      <td>7521.0</td>\n",
       "      <td>71439.0</td>\n",
       "      <td>981.0</td>\n",
       "      <td>51582.0</td>\n",
       "      <td>0</td>\n",
       "    </tr>\n",
       "    <tr>\n",
       "      <th>34</th>\n",
       "      <td>35</td>\n",
       "      <td>500000.0</td>\n",
       "      <td>1</td>\n",
       "      <td>1</td>\n",
       "      <td>1</td>\n",
       "      <td>58</td>\n",
       "      <td>-2</td>\n",
       "      <td>-2</td>\n",
       "      <td>-2</td>\n",
       "      <td>-2</td>\n",
       "      <td>...</td>\n",
       "      <td>3180.0</td>\n",
       "      <td>0.0</td>\n",
       "      <td>5293.0</td>\n",
       "      <td>5006.0</td>\n",
       "      <td>31178.0</td>\n",
       "      <td>3180.0</td>\n",
       "      <td>0.0</td>\n",
       "      <td>5293.0</td>\n",
       "      <td>768.0</td>\n",
       "      <td>0</td>\n",
       "    </tr>\n",
       "    <tr>\n",
       "      <th>45</th>\n",
       "      <td>46</td>\n",
       "      <td>210000.0</td>\n",
       "      <td>1</td>\n",
       "      <td>1</td>\n",
       "      <td>2</td>\n",
       "      <td>29</td>\n",
       "      <td>-2</td>\n",
       "      <td>-2</td>\n",
       "      <td>-2</td>\n",
       "      <td>-2</td>\n",
       "      <td>...</td>\n",
       "      <td>0.0</td>\n",
       "      <td>0.0</td>\n",
       "      <td>0.0</td>\n",
       "      <td>0.0</td>\n",
       "      <td>0.0</td>\n",
       "      <td>0.0</td>\n",
       "      <td>0.0</td>\n",
       "      <td>0.0</td>\n",
       "      <td>0.0</td>\n",
       "      <td>1</td>\n",
       "    </tr>\n",
       "    <tr>\n",
       "      <th>...</th>\n",
       "      <td>...</td>\n",
       "      <td>...</td>\n",
       "      <td>...</td>\n",
       "      <td>...</td>\n",
       "      <td>...</td>\n",
       "      <td>...</td>\n",
       "      <td>...</td>\n",
       "      <td>...</td>\n",
       "      <td>...</td>\n",
       "      <td>...</td>\n",
       "      <td>...</td>\n",
       "      <td>...</td>\n",
       "      <td>...</td>\n",
       "      <td>...</td>\n",
       "      <td>...</td>\n",
       "      <td>...</td>\n",
       "      <td>...</td>\n",
       "      <td>...</td>\n",
       "      <td>...</td>\n",
       "      <td>...</td>\n",
       "      <td>...</td>\n",
       "    </tr>\n",
       "    <tr>\n",
       "      <th>29946</th>\n",
       "      <td>29947</td>\n",
       "      <td>230000.0</td>\n",
       "      <td>1</td>\n",
       "      <td>1</td>\n",
       "      <td>2</td>\n",
       "      <td>44</td>\n",
       "      <td>-2</td>\n",
       "      <td>-1</td>\n",
       "      <td>-1</td>\n",
       "      <td>-1</td>\n",
       "      <td>...</td>\n",
       "      <td>1467.0</td>\n",
       "      <td>9192.0</td>\n",
       "      <td>4388.0</td>\n",
       "      <td>3306.0</td>\n",
       "      <td>806.0</td>\n",
       "      <td>1500.0</td>\n",
       "      <td>9216.0</td>\n",
       "      <td>4388.0</td>\n",
       "      <td>0.0</td>\n",
       "      <td>0</td>\n",
       "    </tr>\n",
       "    <tr>\n",
       "      <th>29961</th>\n",
       "      <td>29962</td>\n",
       "      <td>260000.0</td>\n",
       "      <td>1</td>\n",
       "      <td>1</td>\n",
       "      <td>2</td>\n",
       "      <td>33</td>\n",
       "      <td>-2</td>\n",
       "      <td>-2</td>\n",
       "      <td>-2</td>\n",
       "      <td>-2</td>\n",
       "      <td>...</td>\n",
       "      <td>1368.0</td>\n",
       "      <td>101.0</td>\n",
       "      <td>955.0</td>\n",
       "      <td>263.0</td>\n",
       "      <td>0.0</td>\n",
       "      <td>1368.0</td>\n",
       "      <td>101.0</td>\n",
       "      <td>955.0</td>\n",
       "      <td>0.0</td>\n",
       "      <td>0</td>\n",
       "    </tr>\n",
       "    <tr>\n",
       "      <th>29979</th>\n",
       "      <td>29980</td>\n",
       "      <td>180000.0</td>\n",
       "      <td>1</td>\n",
       "      <td>1</td>\n",
       "      <td>1</td>\n",
       "      <td>32</td>\n",
       "      <td>-2</td>\n",
       "      <td>-2</td>\n",
       "      <td>-2</td>\n",
       "      <td>-2</td>\n",
       "      <td>...</td>\n",
       "      <td>0.0</td>\n",
       "      <td>0.0</td>\n",
       "      <td>0.0</td>\n",
       "      <td>0.0</td>\n",
       "      <td>0.0</td>\n",
       "      <td>0.0</td>\n",
       "      <td>0.0</td>\n",
       "      <td>0.0</td>\n",
       "      <td>0.0</td>\n",
       "      <td>0</td>\n",
       "    </tr>\n",
       "    <tr>\n",
       "      <th>29983</th>\n",
       "      <td>29984</td>\n",
       "      <td>20000.0</td>\n",
       "      <td>1</td>\n",
       "      <td>2</td>\n",
       "      <td>1</td>\n",
       "      <td>44</td>\n",
       "      <td>-2</td>\n",
       "      <td>-2</td>\n",
       "      <td>-2</td>\n",
       "      <td>-2</td>\n",
       "      <td>...</td>\n",
       "      <td>2882.0</td>\n",
       "      <td>9235.0</td>\n",
       "      <td>1719.0</td>\n",
       "      <td>2890.0</td>\n",
       "      <td>2720.0</td>\n",
       "      <td>2890.0</td>\n",
       "      <td>9263.0</td>\n",
       "      <td>1824.0</td>\n",
       "      <td>1701.0</td>\n",
       "      <td>0</td>\n",
       "    </tr>\n",
       "    <tr>\n",
       "      <th>29985</th>\n",
       "      <td>29986</td>\n",
       "      <td>240000.0</td>\n",
       "      <td>1</td>\n",
       "      <td>1</td>\n",
       "      <td>2</td>\n",
       "      <td>30</td>\n",
       "      <td>-2</td>\n",
       "      <td>-2</td>\n",
       "      <td>-2</td>\n",
       "      <td>-2</td>\n",
       "      <td>...</td>\n",
       "      <td>0.0</td>\n",
       "      <td>0.0</td>\n",
       "      <td>0.0</td>\n",
       "      <td>0.0</td>\n",
       "      <td>0.0</td>\n",
       "      <td>0.0</td>\n",
       "      <td>0.0</td>\n",
       "      <td>0.0</td>\n",
       "      <td>0.0</td>\n",
       "      <td>0</td>\n",
       "    </tr>\n",
       "  </tbody>\n",
       "</table>\n",
       "<p>2759 rows × 25 columns</p>\n",
       "</div>"
      ],
      "text/plain": [
       "          ID  LIMIT_BAL  SEX  EDUCATION  MARRIAGE  AGE  PAY_0  PAY_2  PAY_3  \\\n",
       "9         10    20000.0    1          3         2   35     -2     -2     -2   \n",
       "23        24   450000.0    0          1         1   40     -2     -2     -2   \n",
       "33        34   500000.0    0          2         1   54     -2     -2     -2   \n",
       "34        35   500000.0    1          1         1   58     -2     -2     -2   \n",
       "45        46   210000.0    1          1         2   29     -2     -2     -2   \n",
       "...      ...        ...  ...        ...       ...  ...    ...    ...    ...   \n",
       "29946  29947   230000.0    1          1         2   44     -2     -1     -1   \n",
       "29961  29962   260000.0    1          1         2   33     -2     -2     -2   \n",
       "29979  29980   180000.0    1          1         1   32     -2     -2     -2   \n",
       "29983  29984    20000.0    1          2         1   44     -2     -2     -2   \n",
       "29985  29986   240000.0    1          1         2   30     -2     -2     -2   \n",
       "\n",
       "       PAY_4  ...  BILL_AMT4  BILL_AMT5  BILL_AMT6  PAY_AMT1  PAY_AMT2  \\\n",
       "9         -2  ...        0.0    13007.0    13912.0       0.0       0.0   \n",
       "23        -2  ...      560.0        0.0        0.0   19428.0    1473.0   \n",
       "33        -2  ...     7521.0    71439.0     8981.0    4152.0   22827.0   \n",
       "34        -2  ...     3180.0        0.0     5293.0    5006.0   31178.0   \n",
       "45        -2  ...        0.0        0.0        0.0       0.0       0.0   \n",
       "...      ...  ...        ...        ...        ...       ...       ...   \n",
       "29946     -1  ...     1467.0     9192.0     4388.0    3306.0     806.0   \n",
       "29961     -2  ...     1368.0      101.0      955.0     263.0       0.0   \n",
       "29979     -2  ...        0.0        0.0        0.0       0.0       0.0   \n",
       "29983     -2  ...     2882.0     9235.0     1719.0    2890.0    2720.0   \n",
       "29985     -2  ...        0.0        0.0        0.0       0.0       0.0   \n",
       "\n",
       "       PAY_AMT3  PAY_AMT4  PAY_AMT5  PAY_AMT6  default.payment.next.month  \n",
       "9           0.0   13007.0    1122.0       0.0                           0  \n",
       "23        560.0       0.0       0.0    1128.0                           1  \n",
       "33       7521.0   71439.0     981.0   51582.0                           0  \n",
       "34       3180.0       0.0    5293.0     768.0                           0  \n",
       "45          0.0       0.0       0.0       0.0                           1  \n",
       "...         ...       ...       ...       ...                         ...  \n",
       "29946    1500.0    9216.0    4388.0       0.0                           0  \n",
       "29961    1368.0     101.0     955.0       0.0                           0  \n",
       "29979       0.0       0.0       0.0       0.0                           0  \n",
       "29983    2890.0    9263.0    1824.0    1701.0                           0  \n",
       "29985       0.0       0.0       0.0       0.0                           0  \n",
       "\n",
       "[2759 rows x 25 columns]"
      ]
     },
     "execution_count": 54,
     "metadata": {},
     "output_type": "execute_result"
    }
   ],
   "source": [
    "df[df['PAY_0'] == -2]"
   ]
  },
  {
   "cell_type": "code",
   "execution_count": 3,
   "id": "e59dd5c4",
   "metadata": {},
   "outputs": [],
   "source": [
    "numerical = ['AGE','LIMIT_BAL','BILL_AMT1', 'BILL_AMT2','BILL_AMT3', 'BILL_AMT4', 'BILL_AMT5', 'BILL_AMT6', 'PAY_AMT1','PAY_AMT2', 'PAY_AMT3', 'PAY_AMT4', 'PAY_AMT5', 'PAY_AMT6']\n",
    "bill=['BILL_AMT1', 'BILL_AMT2','BILL_AMT3', 'BILL_AMT4', 'BILL_AMT5', 'BILL_AMT6']\n",
    "pay=['PAY_AMT1','PAY_AMT2', 'PAY_AMT3', 'PAY_AMT4', 'PAY_AMT5', 'PAY_AMT6']"
   ]
  },
  {
   "cell_type": "code",
   "execution_count": 181,
   "id": "2e93adbb",
   "metadata": {},
   "outputs": [
    {
     "data": {
      "text/plain": [
       "(30000, 25)"
      ]
     },
     "execution_count": 181,
     "metadata": {},
     "output_type": "execute_result"
    }
   ],
   "source": [
    "df_RAW.shape"
   ]
  },
  {
   "cell_type": "code",
   "execution_count": 182,
   "id": "a86b2411",
   "metadata": {},
   "outputs": [],
   "source": [
    "table = pd.read_html(\"http://inseaddataanalytics.github.io/INSEADAnalytics/CourseSessions/ClassificationProcessCreditCardDefault.html#step_3:_simple_analysis\")\n",
    "table[0]\n",
    "table[0].to_csv(\"Data_Describtion.csv\")"
   ]
  },
  {
   "cell_type": "code",
   "execution_count": 183,
   "id": "2067309e",
   "metadata": {},
   "outputs": [
    {
     "data": {
      "text/html": [
       "<div>\n",
       "<style scoped>\n",
       "    .dataframe tbody tr th:only-of-type {\n",
       "        vertical-align: middle;\n",
       "    }\n",
       "\n",
       "    .dataframe tbody tr th {\n",
       "        vertical-align: top;\n",
       "    }\n",
       "\n",
       "    .dataframe thead th {\n",
       "        text-align: right;\n",
       "    }\n",
       "</style>\n",
       "<table border=\"1\" class=\"dataframe\">\n",
       "  <thead>\n",
       "    <tr style=\"text-align: right;\">\n",
       "      <th></th>\n",
       "      <th>ID</th>\n",
       "      <th>LIMIT_BAL</th>\n",
       "      <th>SEX</th>\n",
       "      <th>EDUCATION</th>\n",
       "      <th>MARRIAGE</th>\n",
       "      <th>AGE</th>\n",
       "      <th>PAY_0</th>\n",
       "      <th>PAY_2</th>\n",
       "      <th>PAY_3</th>\n",
       "      <th>PAY_4</th>\n",
       "      <th>...</th>\n",
       "      <th>BILL_AMT4</th>\n",
       "      <th>BILL_AMT5</th>\n",
       "      <th>BILL_AMT6</th>\n",
       "      <th>PAY_AMT1</th>\n",
       "      <th>PAY_AMT2</th>\n",
       "      <th>PAY_AMT3</th>\n",
       "      <th>PAY_AMT4</th>\n",
       "      <th>PAY_AMT5</th>\n",
       "      <th>PAY_AMT6</th>\n",
       "      <th>default.payment.next.month</th>\n",
       "    </tr>\n",
       "  </thead>\n",
       "  <tbody>\n",
       "    <tr>\n",
       "      <th>count</th>\n",
       "      <td>30000.000000</td>\n",
       "      <td>30000.000000</td>\n",
       "      <td>30000.000000</td>\n",
       "      <td>30000.000000</td>\n",
       "      <td>30000.000000</td>\n",
       "      <td>30000.000000</td>\n",
       "      <td>30000.000000</td>\n",
       "      <td>30000.000000</td>\n",
       "      <td>30000.000000</td>\n",
       "      <td>30000.000000</td>\n",
       "      <td>...</td>\n",
       "      <td>30000.000000</td>\n",
       "      <td>30000.000000</td>\n",
       "      <td>30000.000000</td>\n",
       "      <td>30000.000000</td>\n",
       "      <td>3.000000e+04</td>\n",
       "      <td>30000.00000</td>\n",
       "      <td>30000.000000</td>\n",
       "      <td>30000.000000</td>\n",
       "      <td>30000.000000</td>\n",
       "      <td>30000.000000</td>\n",
       "    </tr>\n",
       "    <tr>\n",
       "      <th>mean</th>\n",
       "      <td>15000.500000</td>\n",
       "      <td>167484.322667</td>\n",
       "      <td>1.603733</td>\n",
       "      <td>1.853133</td>\n",
       "      <td>1.551867</td>\n",
       "      <td>35.485500</td>\n",
       "      <td>-0.016700</td>\n",
       "      <td>-0.133767</td>\n",
       "      <td>-0.166200</td>\n",
       "      <td>-0.220667</td>\n",
       "      <td>...</td>\n",
       "      <td>43262.948967</td>\n",
       "      <td>40311.400967</td>\n",
       "      <td>38871.760400</td>\n",
       "      <td>5663.580500</td>\n",
       "      <td>5.921163e+03</td>\n",
       "      <td>5225.68150</td>\n",
       "      <td>4826.076867</td>\n",
       "      <td>4799.387633</td>\n",
       "      <td>5215.502567</td>\n",
       "      <td>0.221200</td>\n",
       "    </tr>\n",
       "    <tr>\n",
       "      <th>std</th>\n",
       "      <td>8660.398374</td>\n",
       "      <td>129747.661567</td>\n",
       "      <td>0.489129</td>\n",
       "      <td>0.790349</td>\n",
       "      <td>0.521970</td>\n",
       "      <td>9.217904</td>\n",
       "      <td>1.123802</td>\n",
       "      <td>1.197186</td>\n",
       "      <td>1.196868</td>\n",
       "      <td>1.169139</td>\n",
       "      <td>...</td>\n",
       "      <td>64332.856134</td>\n",
       "      <td>60797.155770</td>\n",
       "      <td>59554.107537</td>\n",
       "      <td>16563.280354</td>\n",
       "      <td>2.304087e+04</td>\n",
       "      <td>17606.96147</td>\n",
       "      <td>15666.159744</td>\n",
       "      <td>15278.305679</td>\n",
       "      <td>17777.465775</td>\n",
       "      <td>0.415062</td>\n",
       "    </tr>\n",
       "    <tr>\n",
       "      <th>min</th>\n",
       "      <td>1.000000</td>\n",
       "      <td>10000.000000</td>\n",
       "      <td>1.000000</td>\n",
       "      <td>0.000000</td>\n",
       "      <td>0.000000</td>\n",
       "      <td>21.000000</td>\n",
       "      <td>-2.000000</td>\n",
       "      <td>-2.000000</td>\n",
       "      <td>-2.000000</td>\n",
       "      <td>-2.000000</td>\n",
       "      <td>...</td>\n",
       "      <td>-170000.000000</td>\n",
       "      <td>-81334.000000</td>\n",
       "      <td>-339603.000000</td>\n",
       "      <td>0.000000</td>\n",
       "      <td>0.000000e+00</td>\n",
       "      <td>0.00000</td>\n",
       "      <td>0.000000</td>\n",
       "      <td>0.000000</td>\n",
       "      <td>0.000000</td>\n",
       "      <td>0.000000</td>\n",
       "    </tr>\n",
       "    <tr>\n",
       "      <th>25%</th>\n",
       "      <td>7500.750000</td>\n",
       "      <td>50000.000000</td>\n",
       "      <td>1.000000</td>\n",
       "      <td>1.000000</td>\n",
       "      <td>1.000000</td>\n",
       "      <td>28.000000</td>\n",
       "      <td>-1.000000</td>\n",
       "      <td>-1.000000</td>\n",
       "      <td>-1.000000</td>\n",
       "      <td>-1.000000</td>\n",
       "      <td>...</td>\n",
       "      <td>2326.750000</td>\n",
       "      <td>1763.000000</td>\n",
       "      <td>1256.000000</td>\n",
       "      <td>1000.000000</td>\n",
       "      <td>8.330000e+02</td>\n",
       "      <td>390.00000</td>\n",
       "      <td>296.000000</td>\n",
       "      <td>252.500000</td>\n",
       "      <td>117.750000</td>\n",
       "      <td>0.000000</td>\n",
       "    </tr>\n",
       "    <tr>\n",
       "      <th>50%</th>\n",
       "      <td>15000.500000</td>\n",
       "      <td>140000.000000</td>\n",
       "      <td>2.000000</td>\n",
       "      <td>2.000000</td>\n",
       "      <td>2.000000</td>\n",
       "      <td>34.000000</td>\n",
       "      <td>0.000000</td>\n",
       "      <td>0.000000</td>\n",
       "      <td>0.000000</td>\n",
       "      <td>0.000000</td>\n",
       "      <td>...</td>\n",
       "      <td>19052.000000</td>\n",
       "      <td>18104.500000</td>\n",
       "      <td>17071.000000</td>\n",
       "      <td>2100.000000</td>\n",
       "      <td>2.009000e+03</td>\n",
       "      <td>1800.00000</td>\n",
       "      <td>1500.000000</td>\n",
       "      <td>1500.000000</td>\n",
       "      <td>1500.000000</td>\n",
       "      <td>0.000000</td>\n",
       "    </tr>\n",
       "    <tr>\n",
       "      <th>75%</th>\n",
       "      <td>22500.250000</td>\n",
       "      <td>240000.000000</td>\n",
       "      <td>2.000000</td>\n",
       "      <td>2.000000</td>\n",
       "      <td>2.000000</td>\n",
       "      <td>41.000000</td>\n",
       "      <td>0.000000</td>\n",
       "      <td>0.000000</td>\n",
       "      <td>0.000000</td>\n",
       "      <td>0.000000</td>\n",
       "      <td>...</td>\n",
       "      <td>54506.000000</td>\n",
       "      <td>50190.500000</td>\n",
       "      <td>49198.250000</td>\n",
       "      <td>5006.000000</td>\n",
       "      <td>5.000000e+03</td>\n",
       "      <td>4505.00000</td>\n",
       "      <td>4013.250000</td>\n",
       "      <td>4031.500000</td>\n",
       "      <td>4000.000000</td>\n",
       "      <td>0.000000</td>\n",
       "    </tr>\n",
       "    <tr>\n",
       "      <th>max</th>\n",
       "      <td>30000.000000</td>\n",
       "      <td>1000000.000000</td>\n",
       "      <td>2.000000</td>\n",
       "      <td>6.000000</td>\n",
       "      <td>3.000000</td>\n",
       "      <td>79.000000</td>\n",
       "      <td>8.000000</td>\n",
       "      <td>8.000000</td>\n",
       "      <td>8.000000</td>\n",
       "      <td>8.000000</td>\n",
       "      <td>...</td>\n",
       "      <td>891586.000000</td>\n",
       "      <td>927171.000000</td>\n",
       "      <td>961664.000000</td>\n",
       "      <td>873552.000000</td>\n",
       "      <td>1.684259e+06</td>\n",
       "      <td>896040.00000</td>\n",
       "      <td>621000.000000</td>\n",
       "      <td>426529.000000</td>\n",
       "      <td>528666.000000</td>\n",
       "      <td>1.000000</td>\n",
       "    </tr>\n",
       "  </tbody>\n",
       "</table>\n",
       "<p>8 rows × 25 columns</p>\n",
       "</div>"
      ],
      "text/plain": [
       "                 ID       LIMIT_BAL           SEX     EDUCATION      MARRIAGE  \\\n",
       "count  30000.000000    30000.000000  30000.000000  30000.000000  30000.000000   \n",
       "mean   15000.500000   167484.322667      1.603733      1.853133      1.551867   \n",
       "std     8660.398374   129747.661567      0.489129      0.790349      0.521970   \n",
       "min        1.000000    10000.000000      1.000000      0.000000      0.000000   \n",
       "25%     7500.750000    50000.000000      1.000000      1.000000      1.000000   \n",
       "50%    15000.500000   140000.000000      2.000000      2.000000      2.000000   \n",
       "75%    22500.250000   240000.000000      2.000000      2.000000      2.000000   \n",
       "max    30000.000000  1000000.000000      2.000000      6.000000      3.000000   \n",
       "\n",
       "                AGE         PAY_0         PAY_2         PAY_3         PAY_4  \\\n",
       "count  30000.000000  30000.000000  30000.000000  30000.000000  30000.000000   \n",
       "mean      35.485500     -0.016700     -0.133767     -0.166200     -0.220667   \n",
       "std        9.217904      1.123802      1.197186      1.196868      1.169139   \n",
       "min       21.000000     -2.000000     -2.000000     -2.000000     -2.000000   \n",
       "25%       28.000000     -1.000000     -1.000000     -1.000000     -1.000000   \n",
       "50%       34.000000      0.000000      0.000000      0.000000      0.000000   \n",
       "75%       41.000000      0.000000      0.000000      0.000000      0.000000   \n",
       "max       79.000000      8.000000      8.000000      8.000000      8.000000   \n",
       "\n",
       "       ...      BILL_AMT4      BILL_AMT5      BILL_AMT6       PAY_AMT1  \\\n",
       "count  ...   30000.000000   30000.000000   30000.000000   30000.000000   \n",
       "mean   ...   43262.948967   40311.400967   38871.760400    5663.580500   \n",
       "std    ...   64332.856134   60797.155770   59554.107537   16563.280354   \n",
       "min    ... -170000.000000  -81334.000000 -339603.000000       0.000000   \n",
       "25%    ...    2326.750000    1763.000000    1256.000000    1000.000000   \n",
       "50%    ...   19052.000000   18104.500000   17071.000000    2100.000000   \n",
       "75%    ...   54506.000000   50190.500000   49198.250000    5006.000000   \n",
       "max    ...  891586.000000  927171.000000  961664.000000  873552.000000   \n",
       "\n",
       "           PAY_AMT2      PAY_AMT3       PAY_AMT4       PAY_AMT5  \\\n",
       "count  3.000000e+04   30000.00000   30000.000000   30000.000000   \n",
       "mean   5.921163e+03    5225.68150    4826.076867    4799.387633   \n",
       "std    2.304087e+04   17606.96147   15666.159744   15278.305679   \n",
       "min    0.000000e+00       0.00000       0.000000       0.000000   \n",
       "25%    8.330000e+02     390.00000     296.000000     252.500000   \n",
       "50%    2.009000e+03    1800.00000    1500.000000    1500.000000   \n",
       "75%    5.000000e+03    4505.00000    4013.250000    4031.500000   \n",
       "max    1.684259e+06  896040.00000  621000.000000  426529.000000   \n",
       "\n",
       "            PAY_AMT6  default.payment.next.month  \n",
       "count   30000.000000                30000.000000  \n",
       "mean     5215.502567                    0.221200  \n",
       "std     17777.465775                    0.415062  \n",
       "min         0.000000                    0.000000  \n",
       "25%       117.750000                    0.000000  \n",
       "50%      1500.000000                    0.000000  \n",
       "75%      4000.000000                    0.000000  \n",
       "max    528666.000000                    1.000000  \n",
       "\n",
       "[8 rows x 25 columns]"
      ]
     },
     "execution_count": 183,
     "metadata": {},
     "output_type": "execute_result"
    }
   ],
   "source": [
    "# Dataset Summary\n",
    "df.describe()"
   ]
  },
  {
   "cell_type": "code",
   "execution_count": 184,
   "id": "61ca5a2c",
   "metadata": {
    "scrolled": false
   },
   "outputs": [
    {
     "name": "stdout",
     "output_type": "stream",
     "text": [
      "<class 'pandas.core.frame.DataFrame'>\n",
      "RangeIndex: 30000 entries, 0 to 29999\n",
      "Data columns (total 25 columns):\n",
      " #   Column                      Non-Null Count  Dtype  \n",
      "---  ------                      --------------  -----  \n",
      " 0   ID                          30000 non-null  int64  \n",
      " 1   LIMIT_BAL                   30000 non-null  float64\n",
      " 2   SEX                         30000 non-null  int64  \n",
      " 3   EDUCATION                   30000 non-null  int64  \n",
      " 4   MARRIAGE                    30000 non-null  int64  \n",
      " 5   AGE                         30000 non-null  int64  \n",
      " 6   PAY_0                       30000 non-null  int64  \n",
      " 7   PAY_2                       30000 non-null  int64  \n",
      " 8   PAY_3                       30000 non-null  int64  \n",
      " 9   PAY_4                       30000 non-null  int64  \n",
      " 10  PAY_5                       30000 non-null  int64  \n",
      " 11  PAY_6                       30000 non-null  int64  \n",
      " 12  BILL_AMT1                   30000 non-null  float64\n",
      " 13  BILL_AMT2                   30000 non-null  float64\n",
      " 14  BILL_AMT3                   30000 non-null  float64\n",
      " 15  BILL_AMT4                   30000 non-null  float64\n",
      " 16  BILL_AMT5                   30000 non-null  float64\n",
      " 17  BILL_AMT6                   30000 non-null  float64\n",
      " 18  PAY_AMT1                    30000 non-null  float64\n",
      " 19  PAY_AMT2                    30000 non-null  float64\n",
      " 20  PAY_AMT3                    30000 non-null  float64\n",
      " 21  PAY_AMT4                    30000 non-null  float64\n",
      " 22  PAY_AMT5                    30000 non-null  float64\n",
      " 23  PAY_AMT6                    30000 non-null  float64\n",
      " 24  default.payment.next.month  30000 non-null  int64  \n",
      "dtypes: float64(13), int64(12)\n",
      "memory usage: 5.7 MB\n"
     ]
    }
   ],
   "source": [
    "df.info()"
   ]
  },
  {
   "cell_type": "code",
   "execution_count": 4,
   "id": "1728cfe0",
   "metadata": {},
   "outputs": [],
   "source": [
    "# Change the Gender Female 2 to 0\n",
    "\n",
    "df[\"SEX\"].replace(2,0,inplace=True)"
   ]
  },
  {
   "cell_type": "code",
   "execution_count": 186,
   "id": "4eb73878",
   "metadata": {
    "scrolled": true
   },
   "outputs": [
    {
     "data": {
      "text/html": [
       "<div>\n",
       "<style scoped>\n",
       "    .dataframe tbody tr th:only-of-type {\n",
       "        vertical-align: middle;\n",
       "    }\n",
       "\n",
       "    .dataframe tbody tr th {\n",
       "        vertical-align: top;\n",
       "    }\n",
       "\n",
       "    .dataframe thead th {\n",
       "        text-align: right;\n",
       "    }\n",
       "</style>\n",
       "<table border=\"1\" class=\"dataframe\">\n",
       "  <thead>\n",
       "    <tr style=\"text-align: right;\">\n",
       "      <th></th>\n",
       "      <th>ID</th>\n",
       "      <th>LIMIT_BAL</th>\n",
       "      <th>SEX</th>\n",
       "      <th>EDUCATION</th>\n",
       "      <th>MARRIAGE</th>\n",
       "      <th>AGE</th>\n",
       "      <th>PAY_0</th>\n",
       "      <th>PAY_2</th>\n",
       "      <th>PAY_3</th>\n",
       "      <th>PAY_4</th>\n",
       "      <th>...</th>\n",
       "      <th>BILL_AMT4</th>\n",
       "      <th>BILL_AMT5</th>\n",
       "      <th>BILL_AMT6</th>\n",
       "      <th>PAY_AMT1</th>\n",
       "      <th>PAY_AMT2</th>\n",
       "      <th>PAY_AMT3</th>\n",
       "      <th>PAY_AMT4</th>\n",
       "      <th>PAY_AMT5</th>\n",
       "      <th>PAY_AMT6</th>\n",
       "      <th>default.payment.next.month</th>\n",
       "    </tr>\n",
       "  </thead>\n",
       "  <tbody>\n",
       "    <tr>\n",
       "      <th>0</th>\n",
       "      <td>1</td>\n",
       "      <td>20000.0</td>\n",
       "      <td>0</td>\n",
       "      <td>2</td>\n",
       "      <td>1</td>\n",
       "      <td>24</td>\n",
       "      <td>2</td>\n",
       "      <td>2</td>\n",
       "      <td>-1</td>\n",
       "      <td>-1</td>\n",
       "      <td>...</td>\n",
       "      <td>0.0</td>\n",
       "      <td>0.0</td>\n",
       "      <td>0.0</td>\n",
       "      <td>0.0</td>\n",
       "      <td>689.0</td>\n",
       "      <td>0.0</td>\n",
       "      <td>0.0</td>\n",
       "      <td>0.0</td>\n",
       "      <td>0.0</td>\n",
       "      <td>1</td>\n",
       "    </tr>\n",
       "    <tr>\n",
       "      <th>1</th>\n",
       "      <td>2</td>\n",
       "      <td>120000.0</td>\n",
       "      <td>0</td>\n",
       "      <td>2</td>\n",
       "      <td>2</td>\n",
       "      <td>26</td>\n",
       "      <td>-1</td>\n",
       "      <td>2</td>\n",
       "      <td>0</td>\n",
       "      <td>0</td>\n",
       "      <td>...</td>\n",
       "      <td>3272.0</td>\n",
       "      <td>3455.0</td>\n",
       "      <td>3261.0</td>\n",
       "      <td>0.0</td>\n",
       "      <td>1000.0</td>\n",
       "      <td>1000.0</td>\n",
       "      <td>1000.0</td>\n",
       "      <td>0.0</td>\n",
       "      <td>2000.0</td>\n",
       "      <td>1</td>\n",
       "    </tr>\n",
       "    <tr>\n",
       "      <th>2</th>\n",
       "      <td>3</td>\n",
       "      <td>90000.0</td>\n",
       "      <td>0</td>\n",
       "      <td>2</td>\n",
       "      <td>2</td>\n",
       "      <td>34</td>\n",
       "      <td>0</td>\n",
       "      <td>0</td>\n",
       "      <td>0</td>\n",
       "      <td>0</td>\n",
       "      <td>...</td>\n",
       "      <td>14331.0</td>\n",
       "      <td>14948.0</td>\n",
       "      <td>15549.0</td>\n",
       "      <td>1518.0</td>\n",
       "      <td>1500.0</td>\n",
       "      <td>1000.0</td>\n",
       "      <td>1000.0</td>\n",
       "      <td>1000.0</td>\n",
       "      <td>5000.0</td>\n",
       "      <td>0</td>\n",
       "    </tr>\n",
       "    <tr>\n",
       "      <th>3</th>\n",
       "      <td>4</td>\n",
       "      <td>50000.0</td>\n",
       "      <td>0</td>\n",
       "      <td>2</td>\n",
       "      <td>1</td>\n",
       "      <td>37</td>\n",
       "      <td>0</td>\n",
       "      <td>0</td>\n",
       "      <td>0</td>\n",
       "      <td>0</td>\n",
       "      <td>...</td>\n",
       "      <td>28314.0</td>\n",
       "      <td>28959.0</td>\n",
       "      <td>29547.0</td>\n",
       "      <td>2000.0</td>\n",
       "      <td>2019.0</td>\n",
       "      <td>1200.0</td>\n",
       "      <td>1100.0</td>\n",
       "      <td>1069.0</td>\n",
       "      <td>1000.0</td>\n",
       "      <td>0</td>\n",
       "    </tr>\n",
       "    <tr>\n",
       "      <th>4</th>\n",
       "      <td>5</td>\n",
       "      <td>50000.0</td>\n",
       "      <td>1</td>\n",
       "      <td>2</td>\n",
       "      <td>1</td>\n",
       "      <td>57</td>\n",
       "      <td>-1</td>\n",
       "      <td>0</td>\n",
       "      <td>-1</td>\n",
       "      <td>0</td>\n",
       "      <td>...</td>\n",
       "      <td>20940.0</td>\n",
       "      <td>19146.0</td>\n",
       "      <td>19131.0</td>\n",
       "      <td>2000.0</td>\n",
       "      <td>36681.0</td>\n",
       "      <td>10000.0</td>\n",
       "      <td>9000.0</td>\n",
       "      <td>689.0</td>\n",
       "      <td>679.0</td>\n",
       "      <td>0</td>\n",
       "    </tr>\n",
       "  </tbody>\n",
       "</table>\n",
       "<p>5 rows × 25 columns</p>\n",
       "</div>"
      ],
      "text/plain": [
       "   ID  LIMIT_BAL  SEX  EDUCATION  MARRIAGE  AGE  PAY_0  PAY_2  PAY_3  PAY_4  \\\n",
       "0   1    20000.0    0          2         1   24      2      2     -1     -1   \n",
       "1   2   120000.0    0          2         2   26     -1      2      0      0   \n",
       "2   3    90000.0    0          2         2   34      0      0      0      0   \n",
       "3   4    50000.0    0          2         1   37      0      0      0      0   \n",
       "4   5    50000.0    1          2         1   57     -1      0     -1      0   \n",
       "\n",
       "   ...  BILL_AMT4  BILL_AMT5  BILL_AMT6  PAY_AMT1  PAY_AMT2  PAY_AMT3  \\\n",
       "0  ...        0.0        0.0        0.0       0.0     689.0       0.0   \n",
       "1  ...     3272.0     3455.0     3261.0       0.0    1000.0    1000.0   \n",
       "2  ...    14331.0    14948.0    15549.0    1518.0    1500.0    1000.0   \n",
       "3  ...    28314.0    28959.0    29547.0    2000.0    2019.0    1200.0   \n",
       "4  ...    20940.0    19146.0    19131.0    2000.0   36681.0   10000.0   \n",
       "\n",
       "   PAY_AMT4  PAY_AMT5  PAY_AMT6  default.payment.next.month  \n",
       "0       0.0       0.0       0.0                           1  \n",
       "1    1000.0       0.0    2000.0                           1  \n",
       "2    1000.0    1000.0    5000.0                           0  \n",
       "3    1100.0    1069.0    1000.0                           0  \n",
       "4    9000.0     689.0     679.0                           0  \n",
       "\n",
       "[5 rows x 25 columns]"
      ]
     },
     "execution_count": 186,
     "metadata": {},
     "output_type": "execute_result"
    }
   ],
   "source": [
    "df.head()"
   ]
  },
  {
   "cell_type": "code",
   "execution_count": 187,
   "id": "7df558ca",
   "metadata": {},
   "outputs": [
    {
     "data": {
      "text/html": [
       "<div>\n",
       "<style scoped>\n",
       "    .dataframe tbody tr th:only-of-type {\n",
       "        vertical-align: middle;\n",
       "    }\n",
       "\n",
       "    .dataframe tbody tr th {\n",
       "        vertical-align: top;\n",
       "    }\n",
       "\n",
       "    .dataframe thead th {\n",
       "        text-align: right;\n",
       "    }\n",
       "</style>\n",
       "<table border=\"1\" class=\"dataframe\">\n",
       "  <thead>\n",
       "    <tr style=\"text-align: right;\">\n",
       "      <th></th>\n",
       "      <th>columns</th>\n",
       "      <th>values</th>\n",
       "      <th>inc_na</th>\n",
       "      <th>exc_na</th>\n",
       "      <th>missval</th>\n",
       "      <th>pctmissval</th>\n",
       "    </tr>\n",
       "  </thead>\n",
       "  <tbody>\n",
       "    <tr>\n",
       "      <th>0</th>\n",
       "      <td>SEX</td>\n",
       "      <td>[0, 1]</td>\n",
       "      <td>2</td>\n",
       "      <td>2</td>\n",
       "      <td>0</td>\n",
       "      <td>0.0</td>\n",
       "    </tr>\n",
       "    <tr>\n",
       "      <th>0</th>\n",
       "      <td>EDUCATION</td>\n",
       "      <td>[2, 1, 3, 5, 4, 6, 0]</td>\n",
       "      <td>7</td>\n",
       "      <td>7</td>\n",
       "      <td>0</td>\n",
       "      <td>0.0</td>\n",
       "    </tr>\n",
       "    <tr>\n",
       "      <th>0</th>\n",
       "      <td>MARRIAGE</td>\n",
       "      <td>[1, 2, 3, 0]</td>\n",
       "      <td>4</td>\n",
       "      <td>4</td>\n",
       "      <td>0</td>\n",
       "      <td>0.0</td>\n",
       "    </tr>\n",
       "    <tr>\n",
       "      <th>0</th>\n",
       "      <td>PAY_0</td>\n",
       "      <td>[2, -1, 0, -2, 1, 3, 4, 8, 7, 5, 6]</td>\n",
       "      <td>11</td>\n",
       "      <td>11</td>\n",
       "      <td>0</td>\n",
       "      <td>0.0</td>\n",
       "    </tr>\n",
       "    <tr>\n",
       "      <th>0</th>\n",
       "      <td>PAY_2</td>\n",
       "      <td>[2, 0, -1, -2, 3, 5, 7, 4, 1, 6, 8]</td>\n",
       "      <td>11</td>\n",
       "      <td>11</td>\n",
       "      <td>0</td>\n",
       "      <td>0.0</td>\n",
       "    </tr>\n",
       "    <tr>\n",
       "      <th>0</th>\n",
       "      <td>PAY_3</td>\n",
       "      <td>[-1, 0, 2, -2, 3, 4, 6, 7, 1, 5, 8]</td>\n",
       "      <td>11</td>\n",
       "      <td>11</td>\n",
       "      <td>0</td>\n",
       "      <td>0.0</td>\n",
       "    </tr>\n",
       "    <tr>\n",
       "      <th>0</th>\n",
       "      <td>PAY_4</td>\n",
       "      <td>[-1, 0, -2, 2, 3, 4, 5, 7, 6, 1, 8]</td>\n",
       "      <td>11</td>\n",
       "      <td>11</td>\n",
       "      <td>0</td>\n",
       "      <td>0.0</td>\n",
       "    </tr>\n",
       "    <tr>\n",
       "      <th>0</th>\n",
       "      <td>PAY_5</td>\n",
       "      <td>[-2, 0, -1, 2, 3, 5, 4, 7, 8, 6]</td>\n",
       "      <td>10</td>\n",
       "      <td>10</td>\n",
       "      <td>0</td>\n",
       "      <td>0.0</td>\n",
       "    </tr>\n",
       "    <tr>\n",
       "      <th>0</th>\n",
       "      <td>PAY_6</td>\n",
       "      <td>[-2, 2, 0, -1, 3, 6, 4, 7, 8, 5]</td>\n",
       "      <td>10</td>\n",
       "      <td>10</td>\n",
       "      <td>0</td>\n",
       "      <td>0.0</td>\n",
       "    </tr>\n",
       "  </tbody>\n",
       "</table>\n",
       "</div>"
      ],
      "text/plain": [
       "     columns                               values inc_na exc_na missval  \\\n",
       "0        SEX                               [0, 1]      2      2       0   \n",
       "0  EDUCATION                [2, 1, 3, 5, 4, 6, 0]      7      7       0   \n",
       "0   MARRIAGE                         [1, 2, 3, 0]      4      4       0   \n",
       "0      PAY_0  [2, -1, 0, -2, 1, 3, 4, 8, 7, 5, 6]     11     11       0   \n",
       "0      PAY_2  [2, 0, -1, -2, 3, 5, 7, 4, 1, 6, 8]     11     11       0   \n",
       "0      PAY_3  [-1, 0, 2, -2, 3, 4, 6, 7, 1, 5, 8]     11     11       0   \n",
       "0      PAY_4  [-1, 0, -2, 2, 3, 4, 5, 7, 6, 1, 8]     11     11       0   \n",
       "0      PAY_5     [-2, 0, -1, 2, 3, 5, 4, 7, 8, 6]     10     10       0   \n",
       "0      PAY_6     [-2, 2, 0, -1, 3, 6, 4, 7, 8, 5]     10     10       0   \n",
       "\n",
       "   pctmissval  \n",
       "0         0.0  \n",
       "0         0.0  \n",
       "0         0.0  \n",
       "0         0.0  \n",
       "0         0.0  \n",
       "0         0.0  \n",
       "0         0.0  \n",
       "0         0.0  \n",
       "0         0.0  "
      ]
     },
     "execution_count": 187,
     "metadata": {},
     "output_type": "execute_result"
    }
   ],
   "source": [
    "#Summary of Categorial data\n",
    "\n",
    "credit_card_stat = pd.DataFrame(columns=['columns', 'values', 'inc_na', 'exc_na', 'missval', 'pctmissval'])\n",
    "categorical = ['SEX', 'EDUCATION', 'MARRIAGE', 'PAY_0','PAY_2', 'PAY_3', 'PAY_4', 'PAY_5', 'PAY_6']\n",
    "temp = pd.DataFrame()\n",
    "\n",
    "for i in categorical:\n",
    "    temp['columns'] = [i]\n",
    "    temp['values'] = [df[i].unique()]\n",
    "    temp['inc_na'] = len(df[i].unique())\n",
    "    temp['exc_na'] = df[i].nunique()\n",
    "    temp['missval'] = df[i].isnull().sum()\n",
    "    temp['pctmissval'] = (df[i].isnull().sum()/len(df))*100\n",
    "    credit_card_stat = credit_card_stat.append(temp)\n",
    "\n",
    "credit_card_stat"
   ]
  },
  {
   "cell_type": "code",
   "execution_count": 188,
   "id": "48858b73",
   "metadata": {},
   "outputs": [
    {
     "data": {
      "image/png": "[encoded data removed]",
      "text/plain": [
       "<Figure size 1080x720 with 3 Axes>"
      ]
     },
     "metadata": {
      "needs_background": "light"
     },
     "output_type": "display_data"
    },
    {
     "data": {
      "image/png": "[encoded data removed]",
      "text/plain": [
       "<Figure size 1080x720 with 3 Axes>"
      ]
     },
     "metadata": {
      "needs_background": "light"
     },
     "output_type": "display_data"
    },
    {
     "data": {
      "image/png": "[encoded data removed]",
      "text/plain": [
       "<Figure size 1080x720 with 3 Axes>"
      ]
     },
     "metadata": {
      "needs_background": "light"
     },
     "output_type": "display_data"
    },
    {
     "data": {
      "text/plain": [
       "<Figure size 1080x720 with 0 Axes>"
      ]
     },
     "metadata": {},
     "output_type": "display_data"
    }
   ],
   "source": [
    "ix = 1\n",
    "fig = plt.figure(figsize = (15,10))\n",
    "for c in list(categorical):\n",
    "    if ix <= 3:\n",
    "        \n",
    "        ax1 = fig.add_subplot(2,3,ix)\n",
    "        sns.countplot(data = df, x=c, ax = ax1)\n",
    "    ix = ix +1\n",
    "    if ix == 4: \n",
    "        fig = plt.figure(figsize = (15,10))\n",
    "        ix =1"
   ]
  },
  {
   "cell_type": "code",
   "execution_count": 189,
   "id": "95fbb0ed",
   "metadata": {
    "scrolled": false
   },
   "outputs": [
    {
     "data": {
      "image/png": "[encoded data removed]",
      "text/plain": [
       "<Figure size 1080x720 with 3 Axes>"
      ]
     },
     "metadata": {
      "needs_background": "light"
     },
     "output_type": "display_data"
    },
    {
     "data": {
      "image/png": "[encoded data removed]",
      "text/plain": [
       "<Figure size 1080x720 with 3 Axes>"
      ]
     },
     "metadata": {
      "needs_background": "light"
     },
     "output_type": "display_data"
    },
    {
     "data": {
      "image/png": "[encoded data removed]",
      "text/plain": [
       "<Figure size 1080x720 with 3 Axes>"
      ]
     },
     "metadata": {
      "needs_background": "light"
     },
     "output_type": "display_data"
    },
    {
     "data": {
      "text/plain": [
       "<Figure size 1080x720 with 0 Axes>"
      ]
     },
     "metadata": {},
     "output_type": "display_data"
    }
   ],
   "source": [
    "ix = 1\n",
    "fig = plt.figure(figsize = (15,10))\n",
    "for c in list(categorical):\n",
    "    if ix <= 3:\n",
    "        \n",
    "        ax1 = fig.add_subplot(2,3,ix)\n",
    "        sns.countplot(data = df, x=c, ax = ax1,hue = \"default.payment.next.month\")\n",
    "    ix = ix +1\n",
    "    if ix == 4: \n",
    "        fig = plt.figure(figsize = (15,10))\n",
    "        ix =1"
   ]
  },
  {
   "cell_type": "markdown",
   "id": "120cb84b",
   "metadata": {},
   "source": [
    "## Report\n",
    "\n",
    "1. In Education we mearge the categories 5,6,0,4 in to one category 0\n",
    "2. Rearrange Education 0=unkhown+others  1= high School 2=University 3= Graduate School\n",
    "3. In Marriage we mearge the categories 0 and 3 in to one category 3"
   ]
  },
  {
   "cell_type": "markdown",
   "id": "15810ef2",
   "metadata": {},
   "source": [
    "## Numarical Variables"
   ]
  },
  {
   "cell_type": "code",
   "execution_count": 190,
   "id": "2cd6f37d",
   "metadata": {
    "scrolled": true
   },
   "outputs": [
    {
     "data": {
      "text/html": [
       "<div>\n",
       "<style scoped>\n",
       "    .dataframe tbody tr th:only-of-type {\n",
       "        vertical-align: middle;\n",
       "    }\n",
       "\n",
       "    .dataframe tbody tr th {\n",
       "        vertical-align: top;\n",
       "    }\n",
       "\n",
       "    .dataframe thead th {\n",
       "        text-align: right;\n",
       "    }\n",
       "</style>\n",
       "<table border=\"1\" class=\"dataframe\">\n",
       "  <thead>\n",
       "    <tr style=\"text-align: right;\">\n",
       "      <th></th>\n",
       "      <th>columns</th>\n",
       "      <th>Min</th>\n",
       "      <th>Max</th>\n",
       "      <th>MissingVals</th>\n",
       "      <th>%_MissingVals</th>\n",
       "      <th>IQR</th>\n",
       "      <th>lower</th>\n",
       "      <th>upper</th>\n",
       "    </tr>\n",
       "  </thead>\n",
       "  <tbody>\n",
       "    <tr>\n",
       "      <th>0</th>\n",
       "      <td>BILL_AMT1</td>\n",
       "      <td>-165580.0</td>\n",
       "      <td>964511.0</td>\n",
       "      <td>0</td>\n",
       "      <td>0.0</td>\n",
       "      <td>63532.25</td>\n",
       "      <td>-91739.625</td>\n",
       "      <td>162389.375</td>\n",
       "    </tr>\n",
       "    <tr>\n",
       "      <th>0</th>\n",
       "      <td>BILL_AMT2</td>\n",
       "      <td>-69777.0</td>\n",
       "      <td>983931.0</td>\n",
       "      <td>0</td>\n",
       "      <td>0.0</td>\n",
       "      <td>61021.50</td>\n",
       "      <td>-88547.500</td>\n",
       "      <td>155538.500</td>\n",
       "    </tr>\n",
       "    <tr>\n",
       "      <th>0</th>\n",
       "      <td>BILL_AMT3</td>\n",
       "      <td>-157264.0</td>\n",
       "      <td>1664089.0</td>\n",
       "      <td>0</td>\n",
       "      <td>0.0</td>\n",
       "      <td>57498.50</td>\n",
       "      <td>-83581.500</td>\n",
       "      <td>146412.500</td>\n",
       "    </tr>\n",
       "    <tr>\n",
       "      <th>0</th>\n",
       "      <td>BILL_AMT4</td>\n",
       "      <td>-170000.0</td>\n",
       "      <td>891586.0</td>\n",
       "      <td>0</td>\n",
       "      <td>0.0</td>\n",
       "      <td>52179.25</td>\n",
       "      <td>-75942.125</td>\n",
       "      <td>132774.875</td>\n",
       "    </tr>\n",
       "    <tr>\n",
       "      <th>0</th>\n",
       "      <td>BILL_AMT5</td>\n",
       "      <td>-81334.0</td>\n",
       "      <td>927171.0</td>\n",
       "      <td>0</td>\n",
       "      <td>0.0</td>\n",
       "      <td>48427.50</td>\n",
       "      <td>-70878.250</td>\n",
       "      <td>122831.750</td>\n",
       "    </tr>\n",
       "    <tr>\n",
       "      <th>0</th>\n",
       "      <td>BILL_AMT6</td>\n",
       "      <td>-339603.0</td>\n",
       "      <td>961664.0</td>\n",
       "      <td>0</td>\n",
       "      <td>0.0</td>\n",
       "      <td>47942.25</td>\n",
       "      <td>-70657.375</td>\n",
       "      <td>121111.625</td>\n",
       "    </tr>\n",
       "  </tbody>\n",
       "</table>\n",
       "</div>"
      ],
      "text/plain": [
       "     columns       Min        Max MissingVals  %_MissingVals       IQR  \\\n",
       "0  BILL_AMT1 -165580.0   964511.0           0            0.0  63532.25   \n",
       "0  BILL_AMT2  -69777.0   983931.0           0            0.0  61021.50   \n",
       "0  BILL_AMT3 -157264.0  1664089.0           0            0.0  57498.50   \n",
       "0  BILL_AMT4 -170000.0   891586.0           0            0.0  52179.25   \n",
       "0  BILL_AMT5  -81334.0   927171.0           0            0.0  48427.50   \n",
       "0  BILL_AMT6 -339603.0   961664.0           0            0.0  47942.25   \n",
       "\n",
       "       lower       upper  \n",
       "0 -91739.625  162389.375  \n",
       "0 -88547.500  155538.500  \n",
       "0 -83581.500  146412.500  \n",
       "0 -75942.125  132774.875  \n",
       "0 -70878.250  122831.750  \n",
       "0 -70657.375  121111.625  "
      ]
     },
     "execution_count": 190,
     "metadata": {},
     "output_type": "execute_result"
    }
   ],
   "source": [
    "Numerical_summary_bill = pd.DataFrame(columns=['columns','Min','Max','MissingVals','%_MissingVals','IQR','lower','upper'])\n",
    "temp = pd.DataFrame()\n",
    "for i in bill:\n",
    "    temp['columns'] = [i]\n",
    "    temp['Min'] = df[i].min()\n",
    "    temp['Max'] = df[i].max()\n",
    "    temp['MissingVals'] = df[i].isnull().sum()\n",
    "    temp['%_MissingVals'] = df[i].isnull().sum()/len(df)*100\n",
    "    temp['IQR'] = df[i].quantile(.75) - df[i].quantile(.25)\n",
    "    temp['lower'] = df[i].quantile(.25) - 1.5*temp['IQR']\n",
    "    temp['upper'] = df[i].quantile(.75) + 1.5*temp['IQR']\n",
    "    Numerical_summary_bill = Numerical_summary_bill.append(temp)\n",
    "    \n",
    "Numerical_summary_bill"
   ]
  },
  {
   "cell_type": "code",
   "execution_count": 191,
   "id": "e7f16730",
   "metadata": {},
   "outputs": [
    {
     "data": {
      "text/html": [
       "<div>\n",
       "<style scoped>\n",
       "    .dataframe tbody tr th:only-of-type {\n",
       "        vertical-align: middle;\n",
       "    }\n",
       "\n",
       "    .dataframe tbody tr th {\n",
       "        vertical-align: top;\n",
       "    }\n",
       "\n",
       "    .dataframe thead th {\n",
       "        text-align: right;\n",
       "    }\n",
       "</style>\n",
       "<table border=\"1\" class=\"dataframe\">\n",
       "  <thead>\n",
       "    <tr style=\"text-align: right;\">\n",
       "      <th></th>\n",
       "      <th>columns</th>\n",
       "      <th>Min</th>\n",
       "      <th>Max</th>\n",
       "      <th>MissingVals</th>\n",
       "      <th>%_MissingVals</th>\n",
       "      <th>IQR</th>\n",
       "      <th>lower</th>\n",
       "      <th>upper</th>\n",
       "    </tr>\n",
       "  </thead>\n",
       "  <tbody>\n",
       "    <tr>\n",
       "      <th>0</th>\n",
       "      <td>PAY_AMT1</td>\n",
       "      <td>0.0</td>\n",
       "      <td>873552.0</td>\n",
       "      <td>0</td>\n",
       "      <td>0.0</td>\n",
       "      <td>4006.00</td>\n",
       "      <td>-5009.000</td>\n",
       "      <td>11015.000</td>\n",
       "    </tr>\n",
       "    <tr>\n",
       "      <th>0</th>\n",
       "      <td>PAY_AMT2</td>\n",
       "      <td>0.0</td>\n",
       "      <td>1684259.0</td>\n",
       "      <td>0</td>\n",
       "      <td>0.0</td>\n",
       "      <td>4167.00</td>\n",
       "      <td>-5417.500</td>\n",
       "      <td>11250.500</td>\n",
       "    </tr>\n",
       "    <tr>\n",
       "      <th>0</th>\n",
       "      <td>PAY_AMT3</td>\n",
       "      <td>0.0</td>\n",
       "      <td>896040.0</td>\n",
       "      <td>0</td>\n",
       "      <td>0.0</td>\n",
       "      <td>4115.00</td>\n",
       "      <td>-5782.500</td>\n",
       "      <td>10677.500</td>\n",
       "    </tr>\n",
       "    <tr>\n",
       "      <th>0</th>\n",
       "      <td>PAY_AMT4</td>\n",
       "      <td>0.0</td>\n",
       "      <td>621000.0</td>\n",
       "      <td>0</td>\n",
       "      <td>0.0</td>\n",
       "      <td>3717.25</td>\n",
       "      <td>-5279.875</td>\n",
       "      <td>9589.125</td>\n",
       "    </tr>\n",
       "    <tr>\n",
       "      <th>0</th>\n",
       "      <td>PAY_AMT5</td>\n",
       "      <td>0.0</td>\n",
       "      <td>426529.0</td>\n",
       "      <td>0</td>\n",
       "      <td>0.0</td>\n",
       "      <td>3779.00</td>\n",
       "      <td>-5416.000</td>\n",
       "      <td>9700.000</td>\n",
       "    </tr>\n",
       "    <tr>\n",
       "      <th>0</th>\n",
       "      <td>PAY_AMT6</td>\n",
       "      <td>0.0</td>\n",
       "      <td>528666.0</td>\n",
       "      <td>0</td>\n",
       "      <td>0.0</td>\n",
       "      <td>3882.25</td>\n",
       "      <td>-5705.625</td>\n",
       "      <td>9823.375</td>\n",
       "    </tr>\n",
       "  </tbody>\n",
       "</table>\n",
       "</div>"
      ],
      "text/plain": [
       "    columns  Min        Max MissingVals  %_MissingVals      IQR     lower  \\\n",
       "0  PAY_AMT1  0.0   873552.0           0            0.0  4006.00 -5009.000   \n",
       "0  PAY_AMT2  0.0  1684259.0           0            0.0  4167.00 -5417.500   \n",
       "0  PAY_AMT3  0.0   896040.0           0            0.0  4115.00 -5782.500   \n",
       "0  PAY_AMT4  0.0   621000.0           0            0.0  3717.25 -5279.875   \n",
       "0  PAY_AMT5  0.0   426529.0           0            0.0  3779.00 -5416.000   \n",
       "0  PAY_AMT6  0.0   528666.0           0            0.0  3882.25 -5705.625   \n",
       "\n",
       "       upper  \n",
       "0  11015.000  \n",
       "0  11250.500  \n",
       "0  10677.500  \n",
       "0   9589.125  \n",
       "0   9700.000  \n",
       "0   9823.375  "
      ]
     },
     "execution_count": 191,
     "metadata": {},
     "output_type": "execute_result"
    }
   ],
   "source": [
    "Numerical_summary_pay = pd.DataFrame(columns=['columns','Min','Max','MissingVals','%_MissingVals','IQR','lower','upper'])\n",
    "temp = pd.DataFrame()\n",
    "for i in pay:\n",
    "    temp['columns'] = [i]\n",
    "    temp['Min'] = df[i].min()\n",
    "    temp['Max'] = df[i].max()\n",
    "    temp['MissingVals'] = df[i].isnull().sum()\n",
    "    temp['%_MissingVals'] = df[i].isnull().sum()/len(df)*100\n",
    "    temp['IQR'] = df[i].quantile(.75) - df[i].quantile(.25)\n",
    "    temp['lower'] = df[i].quantile(.25) - 1.5*temp['IQR']\n",
    "    temp['upper'] = df[i].quantile(.75) + 1.5*temp['IQR']\n",
    "    Numerical_summary_pay = Numerical_summary_pay.append(temp)\n",
    "    \n",
    "Numerical_summary_pay"
   ]
  },
  {
   "cell_type": "code",
   "execution_count": 192,
   "id": "d47d86b6",
   "metadata": {
    "scrolled": false
   },
   "outputs": [
    {
     "data": {
      "image/png": "[encoded data removed]",
      "text/plain": [
       "<Figure size 1080x720 with 2 Axes>"
      ]
     },
     "metadata": {
      "needs_background": "light"
     },
     "output_type": "display_data"
    },
    {
     "data": {
      "image/png": "[encoded data removed]",
      "text/plain": [
       "<Figure size 1080x720 with 2 Axes>"
      ]
     },
     "metadata": {
      "needs_background": "light"
     },
     "output_type": "display_data"
    },
    {
     "data": {
      "image/png": "[encoded data removed]",
      "text/plain": [
       "<Figure size 1080x720 with 2 Axes>"
      ]
     },
     "metadata": {
      "needs_background": "light"
     },
     "output_type": "display_data"
    },
    {
     "data": {
      "image/png": "[encoded data removed]",
      "text/plain": [
       "<Figure size 1080x720 with 2 Axes>"
      ]
     },
     "metadata": {
      "needs_background": "light"
     },
     "output_type": "display_data"
    },
    {
     "data": {
      "image/png": "[encoded data removed]",
      "text/plain": [
       "<Figure size 1080x720 with 2 Axes>"
      ]
     },
     "metadata": {
      "needs_background": "light"
     },
     "output_type": "display_data"
    },
    {
     "data": {
      "image/png": "[encoded data removed]",
      "text/plain": [
       "<Figure size 1080x720 with 2 Axes>"
      ]
     },
     "metadata": {
      "needs_background": "light"
     },
     "output_type": "display_data"
    },
    {
     "data": {
      "text/plain": [
       "<Figure size 1080x720 with 0 Axes>"
      ]
     },
     "metadata": {},
     "output_type": "display_data"
    }
   ],
   "source": [
    "ix = 1\n",
    "fig = plt.figure(figsize = (15,10))\n",
    "for c in list(bill):\n",
    "    if ix <= 2:\n",
    "        ax1 = fig.add_subplot(2,2,1)\n",
    "        sns.boxplot(data = df, x=c, ax = ax1)\n",
    "        ax2 = fig.add_subplot(2,2,2)\n",
    "        sns.histplot(data = df, x=c, ax = ax2,color=\"red\")\n",
    "    ix = 3\n",
    "    if ix == 3: \n",
    "        fig = plt.figure(figsize = (15,10))\n",
    "        ix =1"
   ]
  },
  {
   "cell_type": "code",
   "execution_count": 193,
   "id": "9489325a",
   "metadata": {
    "scrolled": false
   },
   "outputs": [
    {
     "data": {
      "image/png": "[encoded data removed]",
      "text/plain": [
       "<Figure size 1080x720 with 2 Axes>"
      ]
     },
     "metadata": {
      "needs_background": "light"
     },
     "output_type": "display_data"
    },
    {
     "data": {
      "image/png": "[encoded data removed]",
      "text/plain": [
       "<Figure size 1080x720 with 2 Axes>"
      ]
     },
     "metadata": {
      "needs_background": "light"
     },
     "output_type": "display_data"
    },
    {
     "data": {
      "image/png": "[encoded data removed]",
      "text/plain": [
       "<Figure size 1080x720 with 2 Axes>"
      ]
     },
     "metadata": {
      "needs_background": "light"
     },
     "output_type": "display_data"
    },
    {
     "data": {
      "image/png": "[encoded data removed]",
      "text/plain": [
       "<Figure size 1080x720 with 2 Axes>"
      ]
     },
     "metadata": {
      "needs_background": "light"
     },
     "output_type": "display_data"
    },
    {
     "data": {
      "image/png": "[encoded data removed]",
      "text/plain": [
       "<Figure size 1080x720 with 2 Axes>"
      ]
     },
     "metadata": {
      "needs_background": "light"
     },
     "output_type": "display_data"
    },
    {
     "data": {
      "image/png": "[encoded data removed]",
      "text/plain": [
       "<Figure size 1080x720 with 2 Axes>"
      ]
     },
     "metadata": {
      "needs_background": "light"
     },
     "output_type": "display_data"
    },
    {
     "data": {
      "text/plain": [
       "<Figure size 1080x720 with 0 Axes>"
      ]
     },
     "metadata": {},
     "output_type": "display_data"
    }
   ],
   "source": [
    "ix = 1\n",
    "fig = plt.figure(figsize = (15,10))\n",
    "for c in list(pay):\n",
    "    if ix <= 2:\n",
    "        ax1 = fig.add_subplot(2,2,1)\n",
    "        sns.boxplot(data = df, x=c, ax = ax1)\n",
    "        ax2 = fig.add_subplot(2,2,2)\n",
    "        sns.histplot(data = df, x=c, ax = ax2,color=\"red\",bins=20)\n",
    "    ix = 3\n",
    "    if ix == 3: \n",
    "        fig = plt.figure(figsize = (15,10))\n",
    "        ix =1"
   ]
  },
  {
   "cell_type": "markdown",
   "id": "1db552a8",
   "metadata": {},
   "source": [
    "## Bivariate Data Analysis"
   ]
  },
  {
   "cell_type": "code",
   "execution_count": 5,
   "id": "f0fa3427",
   "metadata": {},
   "outputs": [],
   "source": [
    "df1 = df.copy() "
   ]
  },
  {
   "cell_type": "markdown",
   "id": "81219b87",
   "metadata": {},
   "source": [
    "# Cheak Point"
   ]
  },
  {
   "cell_type": "markdown",
   "id": "c07333d7",
   "metadata": {},
   "source": [
    "1. In Education we mearge the categories 5,6,0 in to one category 4\n",
    "2. Rearrange Education 0=unkhown+others  1= high School 2=University 3= Graduate School\n",
    "3. In Marriage we mearge the categories 0 and 3 in to one category 3"
   ]
  },
  {
   "cell_type": "code",
   "execution_count": 6,
   "id": "9e5f4dae",
   "metadata": {},
   "outputs": [],
   "source": [
    "# In Education we mearge the categories 5,6,0 in to one category 4\n",
    "\n",
    "df1.EDUCATION = df1.EDUCATION.replace(5,4)\n",
    "df1.EDUCATION = df1.EDUCATION.replace(6,4)\n",
    "df1.EDUCATION = df1.EDUCATION.replace(0,4)"
   ]
  },
  {
   "cell_type": "code",
   "execution_count": 196,
   "id": "340acb0e",
   "metadata": {
    "scrolled": false
   },
   "outputs": [
    {
     "name": "stderr",
     "output_type": "stream",
     "text": [
      "C:\\Anaconda\\lib\\site-packages\\seaborn\\_decorators.py:36: FutureWarning: Pass the following variable as a keyword arg: x. From version 0.12, the only valid positional argument will be `data`, and passing other arguments without an explicit keyword will result in an error or misinterpretation.\n",
      "  warnings.warn(\n"
     ]
    },
    {
     "data": {
      "text/plain": [
       "<AxesSubplot:xlabel='EDUCATION', ylabel='count'>"
      ]
     },
     "execution_count": 196,
     "metadata": {},
     "output_type": "execute_result"
    },
    {
     "data": {
      "image/png": "[encoded data removed]",
      "text/plain": [
       "<Figure size 432x288 with 1 Axes>"
      ]
     },
     "metadata": {
      "needs_background": "light"
     },
     "output_type": "display_data"
    }
   ],
   "source": [
    "sns.countplot(df1.EDUCATION)"
   ]
  },
  {
   "cell_type": "code",
   "execution_count": 7,
   "id": "c78b6236",
   "metadata": {},
   "outputs": [],
   "source": [
    "# In Marriage we mearge the categories 0 and 3 in to one category 3\n",
    "\n",
    "df1.MARRIAGE = df1.MARRIAGE.replace(0,3)"
   ]
  },
  {
   "cell_type": "code",
   "execution_count": 7,
   "id": "7a093840",
   "metadata": {},
   "outputs": [],
   "source": [
    "df2 = df1.copy()"
   ]
  },
  {
   "cell_type": "markdown",
   "id": "1a0d00c2",
   "metadata": {},
   "source": [
    "# Cheak Point"
   ]
  },
  {
   "cell_type": "markdown",
   "id": "600a7ffa",
   "metadata": {},
   "source": [
    "# Transformation"
   ]
  },
  {
   "cell_type": "code",
   "execution_count": 8,
   "id": "713d5c8f",
   "metadata": {},
   "outputs": [],
   "source": [
    "df2.drop([\"ID\",'MARRIAGE'],axis = 1,inplace = True)"
   ]
  },
  {
   "cell_type": "code",
   "execution_count": 9,
   "id": "89e2745c",
   "metadata": {},
   "outputs": [
    {
     "data": {
      "text/plain": [
       "Index(['LIMIT_BAL', 'SEX', 'EDUCATION', 'AGE', 'PAY_0', 'PAY_2', 'PAY_3',\n",
       "       'PAY_4', 'PAY_5', 'PAY_6', 'BILL_AMT1', 'BILL_AMT2', 'BILL_AMT3',\n",
       "       'BILL_AMT4', 'BILL_AMT5', 'BILL_AMT6', 'PAY_AMT1', 'PAY_AMT2',\n",
       "       'PAY_AMT3', 'PAY_AMT4', 'PAY_AMT5', 'PAY_AMT6',\n",
       "       'default.payment.next.month'],\n",
       "      dtype='object')"
      ]
     },
     "execution_count": 9,
     "metadata": {},
     "output_type": "execute_result"
    }
   ],
   "source": [
    "df2.columns"
   ]
  },
  {
   "cell_type": "code",
   "execution_count": 10,
   "id": "699e36ab",
   "metadata": {},
   "outputs": [],
   "source": [
    "X_multi = df2[['LIMIT_BAL', 'SEX', 'EDUCATION', 'AGE', 'PAY_0', 'PAY_2',\n",
    "       'PAY_3', 'PAY_4', 'PAY_5', 'PAY_6', 'BILL_AMT1', 'BILL_AMT2',\n",
    "       'BILL_AMT3', 'BILL_AMT4', 'BILL_AMT5', 'BILL_AMT6', 'PAY_AMT1',\n",
    "       'PAY_AMT2', 'PAY_AMT3', 'PAY_AMT4', 'PAY_AMT5', 'PAY_AMT6']]\n",
    "\n",
    "Y_multi = df2[['default.payment.next.month']]"
   ]
  },
  {
   "cell_type": "code",
   "execution_count": 11,
   "id": "e83a9017",
   "metadata": {},
   "outputs": [],
   "source": [
    "from sklearn.model_selection import train_test_split\n",
    "\n",
    "X_train,X_test,Y_train,Y_test = train_test_split(X_multi,Y_multi,test_size=0.3,random_state = 0)"
   ]
  },
  {
   "cell_type": "code",
   "execution_count": 12,
   "id": "31c4c6af",
   "metadata": {},
   "outputs": [
    {
     "name": "stdout",
     "output_type": "stream",
     "text": [
      "LIMIT_BAL  SEX  EDUCATION  AGE  PAY_0  PAY_2  PAY_3  PAY_4  PAY_5  PAY_6  BILL_AMT1  BILL_AMT2  BILL_AMT3  BILL_AMT4  BILL_AMT5  BILL_AMT6  PAY_AMT1  PAY_AMT2  PAY_AMT3  PAY_AMT4  PAY_AMT5  PAY_AMT6\n",
      "20000.0    1    2          24    2      2      4      4      4      4      1650.0     1650.0     1650.0     1650.0    1650.0     1650.0     0.0       0.0       0.0       0.0       0.0       0.0         12\n",
      "360000.0   1    1          38   -2     -2     -2     -2     -2     -2      0.0        0.0        0.0        0.0       0.0        0.0        0.0       0.0       0.0       0.0       0.0       0.0         10\n",
      "240000.0   0    3          35    0      0      0      0      0      0      238166.0   236686.0   186613.0   189470.0  119525.0   121178.0   8522.0    9100.0    8244.0    5000.0    5000.0    4011.0      10\n",
      "230000.0   0    1          36   -1     -1      2     -1     -1     -1      878.0      9567.0     3074.0     3660.0    3790.0     6006.0     9574.0    0.0       3660.0    3790.0    6006.0    5647.0      10\n",
      "210000.0   1    3          44    1      2      2     -2     -2     -2      19131.0    18447.0    0.0        0.0       0.0        0.0        0.0       0.0       0.0       0.0       0.0       0.0         10\n",
      "                                                                                                                                                                                                          ..\n",
      "100000.0   0    2          32    1     -2     -2     -2     -1     -1     -350.0     -740.0     -1130.0    -1520.0    780.0      0.0        0.0       0.0       0.0       2300.0    0.0       0.0          1\n",
      "                           33   -1     -1     -1     -1     -1      0      7067.0    -418.0      7064.0     15229.0   9689.0     2669.0     0.0       7482.0    15315.0   9705.0    0.0       4600.0       1\n",
      "                                 0      0      0      0      0      0      61089.0    81262.0    59110.0    70052.0   84659.0    57648.0    30010.0   10047.0   20000.0   17000.0   5000.0    10000.0      1\n",
      "                                                                           82308.0    83994.0    85688.0    86643.0   88280.0    90054.0    3261.0    3307.0    2581.0    2502.0    2525.0    2600.0       1\n",
      "800000.0   1    2          53   -1     -1     -1      0      0     -1      7639.0     5552.0     64535.0    40814.0   12590.0    9339.0     11145.0   64657.0   131.0     247.0     9366.0    63482.0      1\n",
      "Length: 20970, dtype: int64\n",
      "default.payment.next.month\n",
      "0                             16304\n",
      "1                             16304\n",
      "dtype: int64\n"
     ]
    }
   ],
   "source": [
    "# Handeling Imblansed data with Over Sampling\n",
    "\n",
    "from collections import Counter\n",
    "from imblearn.over_sampling import RandomOverSampler, SMOTE, ADASYN\n",
    "os = RandomOverSampler()\n",
    "X_train_ns, Y_train_ns = os.fit_resample(X_train, Y_train)\n",
    "print(X_train_ns.value_counts())\n",
    "print(Y_train_ns.value_counts())"
   ]
  },
  {
   "cell_type": "code",
   "execution_count": 28,
   "id": "5a3de6e5",
   "metadata": {},
   "outputs": [],
   "source": [
    "from sklearn.metrics import confusion_matrix"
   ]
  },
  {
   "cell_type": "markdown",
   "id": "2359ab05",
   "metadata": {},
   "source": [
    "### Random Forest"
   ]
  },
  {
   "cell_type": "code",
   "execution_count": 31,
   "id": "967fb12a",
   "metadata": {},
   "outputs": [],
   "source": [
    "from sklearn.ensemble import RandomForestClassifier\n",
    "clf = RandomForestClassifier(max_depth=5, random_state=0)"
   ]
  },
  {
   "cell_type": "code",
   "execution_count": 17,
   "id": "eb6fc469",
   "metadata": {},
   "outputs": [
    {
     "name": "stderr",
     "output_type": "stream",
     "text": [
      "<ipython-input-17-858b60db0230>:1: DataConversionWarning: A column-vector y was passed when a 1d array was expected. Please change the shape of y to (n_samples,), for example using ravel().\n",
      "  clf.fit(X_train_ns, Y_train_ns)\n"
     ]
    },
    {
     "data": {
      "text/plain": [
       "RandomForestClassifier(max_depth=5, random_state=0)"
      ]
     },
     "execution_count": 17,
     "metadata": {},
     "output_type": "execute_result"
    }
   ],
   "source": [
    "clf.fit(X_train_ns, Y_train_ns)"
   ]
  },
  {
   "cell_type": "code",
   "execution_count": 18,
   "id": "c5957baf",
   "metadata": {},
   "outputs": [],
   "source": [
    "y_pred_RF = clf.predict(X_test)"
   ]
  },
  {
   "cell_type": "code",
   "execution_count": 208,
   "id": "45414448",
   "metadata": {
    "scrolled": true
   },
   "outputs": [
    {
     "name": "stdout",
     "output_type": "stream",
     "text": [
      "              precision    recall  f1-score   support\n",
      "\n",
      "           0       0.88      0.84      0.86      7060\n",
      "           1       0.50      0.59      0.54      1940\n",
      "\n",
      "    accuracy                           0.78      9000\n",
      "   macro avg       0.69      0.71      0.70      9000\n",
      "weighted avg       0.80      0.78      0.79      9000\n",
      "\n"
     ]
    }
   ],
   "source": [
    "#Random Oversampler\n",
    "from sklearn.metrics import classification_report\n",
    "print(classification_report(Y_test, y_pred_RF))"
   ]
  },
  {
   "cell_type": "code",
   "execution_count": 19,
   "id": "585659a1",
   "metadata": {},
   "outputs": [
    {
     "name": "stdout",
     "output_type": "stream",
     "text": [
      "              precision    recall  f1-score   support\n",
      "\n",
      "           0       0.87      0.83      0.85      7060\n",
      "           1       0.47      0.55      0.51      1940\n",
      "\n",
      "    accuracy                           0.77      9000\n",
      "   macro avg       0.67      0.69      0.68      9000\n",
      "weighted avg       0.78      0.77      0.78      9000\n",
      "\n"
     ]
    }
   ],
   "source": [
    "#Smote\n",
    "from sklearn.metrics import classification_report\n",
    "print(classification_report(Y_test, y_pred_RF))"
   ]
  },
  {
   "cell_type": "code",
   "execution_count": 209,
   "id": "19bc5158",
   "metadata": {},
   "outputs": [
    {
     "data": {
      "text/plain": [
       "array([[5910, 1150],\n",
       "       [ 802, 1138]], dtype=int64)"
      ]
     },
     "execution_count": 209,
     "metadata": {},
     "output_type": "execute_result"
    }
   ],
   "source": [
    "confusion_matrix(Y_test, y_pred_RF)"
   ]
  },
  {
   "cell_type": "code",
   "execution_count": 29,
   "id": "0f54ea5b",
   "metadata": {},
   "outputs": [],
   "source": [
    "X_train_scale = X_train_ns.copy()"
   ]
  },
  {
   "cell_type": "code",
   "execution_count": 32,
   "id": "3095fe57",
   "metadata": {},
   "outputs": [
    {
     "name": "stderr",
     "output_type": "stream",
     "text": [
      "<ipython-input-32-6930d01d84dd>:2: DataConversionWarning: A column-vector y was passed when a 1d array was expected. Please change the shape of y to (n_samples,), for example using ravel().\n",
      "  clf.fit(X_train_ns, Y_train_ns)\n"
     ]
    },
    {
     "data": {
      "text/plain": [
       "RandomForestClassifier(max_depth=18, min_samples_leaf=3, min_samples_split=6,\n",
       "                       n_estimators=115)"
      ]
     },
     "execution_count": 32,
     "metadata": {},
     "output_type": "execute_result"
    }
   ],
   "source": [
    "clf = RandomForestClassifier(n_estimators=115, min_samples_split=6,min_samples_leaf=3,max_features='auto',max_depth=18)\n",
    "clf.fit(X_train_ns, Y_train_ns)"
   ]
  },
  {
   "cell_type": "code",
   "execution_count": 20,
   "id": "0cf4cad3",
   "metadata": {},
   "outputs": [
    {
     "name": "stderr",
     "output_type": "stream",
     "text": [
      "<ipython-input-20-8f902beb871c>:3: DataConversionWarning: A column-vector y was passed when a 1d array was expected. Please change the shape of y to (n_samples,), for example using ravel().\n",
      "  clf.fit(X_train_ns, Y_train_ns)\n"
     ]
    },
    {
     "data": {
      "text/plain": [
       "RandomForestClassifier(criterion='entropy', max_depth=18, min_samples_split=4,\n",
       "                       n_estimators=90)"
      ]
     },
     "execution_count": 20,
     "metadata": {},
     "output_type": "execute_result"
    }
   ],
   "source": [
    "#colab\n",
    "clf = RandomForestClassifier(criterion='entropy',n_estimators=90, min_samples_split=4,min_samples_leaf=1,max_features='auto',max_depth=18)\n",
    "clf.fit(X_train_ns, Y_train_ns)"
   ]
  },
  {
   "cell_type": "code",
   "execution_count": null,
   "id": "76e7b0cd",
   "metadata": {},
   "outputs": [],
   "source": [
    "{'criterion': 'gini',\n",
    " 'max_depth': 18,\n",
    " 'max_features': 'auto',\n",
    " 'min_samples_leaf': 1,\n",
    " 'min_samples_split': 4,\n",
    " 'n_estimators': 90}"
   ]
  },
  {
   "cell_type": "code",
   "execution_count": 40,
   "id": "9b076d46",
   "metadata": {},
   "outputs": [
    {
     "data": {
      "text/plain": [
       "0.6714171395333052"
      ]
     },
     "execution_count": 40,
     "metadata": {},
     "output_type": "execute_result"
    }
   ],
   "source": [
    "max(clf.predict_proba(X_test)[0])"
   ]
  },
  {
   "cell_type": "code",
   "execution_count": 34,
   "id": "702301a5",
   "metadata": {},
   "outputs": [],
   "source": [
    "y_pred_RF = clf.predict(X_test)"
   ]
  },
  {
   "cell_type": "code",
   "execution_count": 22,
   "id": "8bbdd912",
   "metadata": {},
   "outputs": [
    {
     "name": "stdout",
     "output_type": "stream",
     "text": [
      "              precision    recall  f1-score   support\n",
      "\n",
      "           0       0.87      0.88      0.88      7060\n",
      "           1       0.55      0.51      0.53      1940\n",
      "\n",
      "    accuracy                           0.80      9000\n",
      "   macro avg       0.71      0.70      0.70      9000\n",
      "weighted avg       0.80      0.80      0.80      9000\n",
      "\n"
     ]
    }
   ],
   "source": [
    "#colab\n",
    "from sklearn.metrics import classification_report\n",
    "print(classification_report(Y_test, y_pred_RF))"
   ]
  },
  {
   "cell_type": "code",
   "execution_count": 23,
   "id": "4acd35a9",
   "metadata": {},
   "outputs": [
    {
     "data": {
      "text/plain": [
       "0.6962625215385064"
      ]
     },
     "execution_count": 23,
     "metadata": {},
     "output_type": "execute_result"
    }
   ],
   "source": [
    "from sklearn.metrics import roc_auc_score\n",
    "roc_auc_score(Y_test, y_pred_RF)"
   ]
  },
  {
   "cell_type": "code",
   "execution_count": 35,
   "id": "09f1f463",
   "metadata": {},
   "outputs": [
    {
     "name": "stdout",
     "output_type": "stream",
     "text": [
      "              precision    recall  f1-score   support\n",
      "\n",
      "           0       0.87      0.88      0.87      7060\n",
      "           1       0.54      0.52      0.53      1940\n",
      "\n",
      "    accuracy                           0.80      9000\n",
      "   macro avg       0.71      0.70      0.70      9000\n",
      "weighted avg       0.80      0.80      0.80      9000\n",
      "\n"
     ]
    }
   ],
   "source": [
    "#Random\n",
    "from sklearn.metrics import classification_report\n",
    "print(classification_report(Y_test, y_pred_RF))"
   ]
  },
  {
   "cell_type": "code",
   "execution_count": 36,
   "id": "c05911d0",
   "metadata": {},
   "outputs": [
    {
     "data": {
      "text/plain": [
       "0.6984484974153792"
      ]
     },
     "execution_count": 36,
     "metadata": {},
     "output_type": "execute_result"
    }
   ],
   "source": [
    "from sklearn.metrics import roc_auc_score\n",
    "roc_auc_score(Y_test, y_pred_RF)"
   ]
  },
  {
   "cell_type": "code",
   "execution_count": 17,
   "id": "46003011",
   "metadata": {},
   "outputs": [
    {
     "name": "stdout",
     "output_type": "stream",
     "text": [
      "              precision    recall  f1-score   support\n",
      "\n",
      "           0       0.86      0.86      0.86      7060\n",
      "           1       0.49      0.50      0.49      1940\n",
      "\n",
      "    accuracy                           0.78      9000\n",
      "   macro avg       0.68      0.68      0.68      9000\n",
      "weighted avg       0.78      0.78      0.78      9000\n",
      "\n"
     ]
    }
   ],
   "source": [
    "#SMote\n",
    "from sklearn.metrics import classification_report\n",
    "print(classification_report(Y_test, y_pred_RF))"
   ]
  },
  {
   "cell_type": "code",
   "execution_count": 18,
   "id": "0fa1d565",
   "metadata": {},
   "outputs": [
    {
     "data": {
      "text/plain": [
       "0.6767172395666015"
      ]
     },
     "execution_count": 18,
     "metadata": {},
     "output_type": "execute_result"
    }
   ],
   "source": [
    "from sklearn.metrics import roc_auc_score\n",
    "roc_auc_score(Y_test, y_pred_RF)"
   ]
  },
  {
   "cell_type": "code",
   "execution_count": 28,
   "id": "326c9670",
   "metadata": {},
   "outputs": [
    {
     "name": "stdout",
     "output_type": "stream",
     "text": [
      "              precision    recall  f1-score   support\n",
      "\n",
      "           0       0.86      0.86      0.86      7060\n",
      "           1       0.49      0.50      0.49      1940\n",
      "\n",
      "    accuracy                           0.78      9000\n",
      "   macro avg       0.67      0.68      0.68      9000\n",
      "weighted avg       0.78      0.78      0.78      9000\n",
      "\n"
     ]
    }
   ],
   "source": [
    "#ADASYN\n",
    "from sklearn.metrics import classification_report\n",
    "print(classification_report(Y_test, y_pred_RF))"
   ]
  },
  {
   "cell_type": "code",
   "execution_count": null,
   "id": "ee6b9bbb",
   "metadata": {},
   "outputs": [],
   "source": []
  },
  {
   "cell_type": "code",
   "execution_count": 29,
   "id": "31c684b5",
   "metadata": {},
   "outputs": [
    {
     "data": {
      "text/plain": [
       "array([[6042, 1018],\n",
       "       [ 971,  969]], dtype=int64)"
      ]
     },
     "execution_count": 29,
     "metadata": {},
     "output_type": "execute_result"
    }
   ],
   "source": [
    "confusion_matrix(Y_test, y_pred_RF)"
   ]
  },
  {
   "cell_type": "markdown",
   "id": "b1b39e3a",
   "metadata": {},
   "source": [
    "# Standarization"
   ]
  },
  {
   "cell_type": "code",
   "execution_count": 30,
   "id": "059cf16e",
   "metadata": {},
   "outputs": [],
   "source": [
    "from sklearn.preprocessing import StandardScaler\n",
    "pt = StandardScaler()\n",
    "\n",
    "X_train_scale[numerical]=pt.fit_transform(X_train_scale[numerical])"
   ]
  },
  {
   "cell_type": "code",
   "execution_count": 31,
   "id": "39b79d15",
   "metadata": {},
   "outputs": [
    {
     "name": "stderr",
     "output_type": "stream",
     "text": [
      "<ipython-input-31-2a4994983c98>:1: SettingWithCopyWarning: \n",
      "A value is trying to be set on a copy of a slice from a DataFrame.\n",
      "Try using .loc[row_indexer,col_indexer] = value instead\n",
      "\n",
      "See the caveats in the documentation: https://pandas.pydata.org/pandas-docs/stable/user_guide/indexing.html#returning-a-view-versus-a-copy\n",
      "  X_test[numerical] = pt.transform(X_test[numerical])\n",
      "C:\\Users\\bijoy\\anaconda3\\lib\\site-packages\\pandas\\core\\indexing.py:1738: SettingWithCopyWarning: \n",
      "A value is trying to be set on a copy of a slice from a DataFrame.\n",
      "Try using .loc[row_indexer,col_indexer] = value instead\n",
      "\n",
      "See the caveats in the documentation: https://pandas.pydata.org/pandas-docs/stable/user_guide/indexing.html#returning-a-view-versus-a-copy\n",
      "  self._setitem_single_column(loc, value[:, i].tolist(), pi)\n"
     ]
    }
   ],
   "source": [
    "X_test[numerical] = pt.transform(X_test[numerical])"
   ]
  },
  {
   "cell_type": "code",
   "execution_count": 17,
   "id": "d456d715",
   "metadata": {},
   "outputs": [
    {
     "data": {
      "text/html": [
       "<div>\n",
       "<style scoped>\n",
       "    .dataframe tbody tr th:only-of-type {\n",
       "        vertical-align: middle;\n",
       "    }\n",
       "\n",
       "    .dataframe tbody tr th {\n",
       "        vertical-align: top;\n",
       "    }\n",
       "\n",
       "    .dataframe thead th {\n",
       "        text-align: right;\n",
       "    }\n",
       "</style>\n",
       "<table border=\"1\" class=\"dataframe\">\n",
       "  <thead>\n",
       "    <tr style=\"text-align: right;\">\n",
       "      <th></th>\n",
       "      <th>LIMIT_BAL</th>\n",
       "      <th>SEX</th>\n",
       "      <th>EDUCATION</th>\n",
       "      <th>AGE</th>\n",
       "      <th>PAY_0</th>\n",
       "      <th>PAY_2</th>\n",
       "      <th>PAY_3</th>\n",
       "      <th>PAY_4</th>\n",
       "      <th>PAY_5</th>\n",
       "      <th>PAY_6</th>\n",
       "      <th>...</th>\n",
       "      <th>BILL_AMT3</th>\n",
       "      <th>BILL_AMT4</th>\n",
       "      <th>BILL_AMT5</th>\n",
       "      <th>BILL_AMT6</th>\n",
       "      <th>PAY_AMT1</th>\n",
       "      <th>PAY_AMT2</th>\n",
       "      <th>PAY_AMT3</th>\n",
       "      <th>PAY_AMT4</th>\n",
       "      <th>PAY_AMT5</th>\n",
       "      <th>PAY_AMT6</th>\n",
       "    </tr>\n",
       "  </thead>\n",
       "  <tbody>\n",
       "    <tr>\n",
       "      <th>0</th>\n",
       "      <td>-0.988534</td>\n",
       "      <td>0</td>\n",
       "      <td>2</td>\n",
       "      <td>-0.483866</td>\n",
       "      <td>-2</td>\n",
       "      <td>-2</td>\n",
       "      <td>-2</td>\n",
       "      <td>-2</td>\n",
       "      <td>-2</td>\n",
       "      <td>-2</td>\n",
       "      <td>...</td>\n",
       "      <td>-0.673717</td>\n",
       "      <td>-0.670807</td>\n",
       "      <td>-0.661895</td>\n",
       "      <td>-0.654612</td>\n",
       "      <td>-0.333992</td>\n",
       "      <td>-0.246308</td>\n",
       "      <td>-0.298163</td>\n",
       "      <td>-0.304798</td>\n",
       "      <td>-0.301635</td>\n",
       "      <td>-0.284236</td>\n",
       "    </tr>\n",
       "    <tr>\n",
       "      <th>1</th>\n",
       "      <td>0.365981</td>\n",
       "      <td>1</td>\n",
       "      <td>2</td>\n",
       "      <td>-0.483866</td>\n",
       "      <td>1</td>\n",
       "      <td>2</td>\n",
       "      <td>2</td>\n",
       "      <td>0</td>\n",
       "      <td>0</td>\n",
       "      <td>0</td>\n",
       "      <td>...</td>\n",
       "      <td>-0.250339</td>\n",
       "      <td>-0.229744</td>\n",
       "      <td>-0.187015</td>\n",
       "      <td>-0.175661</td>\n",
       "      <td>-0.124574</td>\n",
       "      <td>-0.246014</td>\n",
       "      <td>-0.232141</td>\n",
       "      <td>-0.231375</td>\n",
       "      <td>-0.208445</td>\n",
       "      <td>-0.159679</td>\n",
       "    </tr>\n",
       "    <tr>\n",
       "      <th>2</th>\n",
       "      <td>2.756301</td>\n",
       "      <td>0</td>\n",
       "      <td>4</td>\n",
       "      <td>0.261474</td>\n",
       "      <td>-2</td>\n",
       "      <td>-2</td>\n",
       "      <td>-2</td>\n",
       "      <td>-2</td>\n",
       "      <td>-2</td>\n",
       "      <td>-2</td>\n",
       "      <td>...</td>\n",
       "      <td>-0.315966</td>\n",
       "      <td>-0.034718</td>\n",
       "      <td>-0.509094</td>\n",
       "      <td>-0.508855</td>\n",
       "      <td>-0.176877</td>\n",
       "      <td>0.977205</td>\n",
       "      <td>2.421775</td>\n",
       "      <td>1.889631</td>\n",
       "      <td>0.316904</td>\n",
       "      <td>-0.064269</td>\n",
       "    </tr>\n",
       "    <tr>\n",
       "      <th>3</th>\n",
       "      <td>-1.068212</td>\n",
       "      <td>0</td>\n",
       "      <td>2</td>\n",
       "      <td>-1.442160</td>\n",
       "      <td>0</td>\n",
       "      <td>0</td>\n",
       "      <td>0</td>\n",
       "      <td>0</td>\n",
       "      <td>0</td>\n",
       "      <td>0</td>\n",
       "      <td>...</td>\n",
       "      <td>-0.107323</td>\n",
       "      <td>-0.356802</td>\n",
       "      <td>-0.338198</td>\n",
       "      <td>-0.319214</td>\n",
       "      <td>-0.243954</td>\n",
       "      <td>-0.152524</td>\n",
       "      <td>-0.187172</td>\n",
       "      <td>0.050932</td>\n",
       "      <td>-0.251626</td>\n",
       "      <td>-0.235970</td>\n",
       "    </tr>\n",
       "    <tr>\n",
       "      <th>4</th>\n",
       "      <td>-0.829180</td>\n",
       "      <td>0</td>\n",
       "      <td>2</td>\n",
       "      <td>1.326246</td>\n",
       "      <td>1</td>\n",
       "      <td>2</td>\n",
       "      <td>0</td>\n",
       "      <td>0</td>\n",
       "      <td>0</td>\n",
       "      <td>0</td>\n",
       "      <td>...</td>\n",
       "      <td>-0.386655</td>\n",
       "      <td>-0.367402</td>\n",
       "      <td>-0.350284</td>\n",
       "      <td>-0.328707</td>\n",
       "      <td>-0.333992</td>\n",
       "      <td>-0.148054</td>\n",
       "      <td>-0.198231</td>\n",
       "      <td>-0.233652</td>\n",
       "      <td>-0.159361</td>\n",
       "      <td>-0.221957</td>\n",
       "    </tr>\n",
       "    <tr>\n",
       "      <th>...</th>\n",
       "      <td>...</td>\n",
       "      <td>...</td>\n",
       "      <td>...</td>\n",
       "      <td>...</td>\n",
       "      <td>...</td>\n",
       "      <td>...</td>\n",
       "      <td>...</td>\n",
       "      <td>...</td>\n",
       "      <td>...</td>\n",
       "      <td>...</td>\n",
       "      <td>...</td>\n",
       "      <td>...</td>\n",
       "      <td>...</td>\n",
       "      <td>...</td>\n",
       "      <td>...</td>\n",
       "      <td>...</td>\n",
       "      <td>...</td>\n",
       "      <td>...</td>\n",
       "      <td>...</td>\n",
       "      <td>...</td>\n",
       "      <td>...</td>\n",
       "    </tr>\n",
       "    <tr>\n",
       "      <th>32603</th>\n",
       "      <td>1.640818</td>\n",
       "      <td>0</td>\n",
       "      <td>1</td>\n",
       "      <td>0.367952</td>\n",
       "      <td>-1</td>\n",
       "      <td>-1</td>\n",
       "      <td>-2</td>\n",
       "      <td>-2</td>\n",
       "      <td>-1</td>\n",
       "      <td>-1</td>\n",
       "      <td>...</td>\n",
       "      <td>-0.673717</td>\n",
       "      <td>-0.670807</td>\n",
       "      <td>-0.646937</td>\n",
       "      <td>-0.654612</td>\n",
       "      <td>-0.333992</td>\n",
       "      <td>-0.246308</td>\n",
       "      <td>-0.298163</td>\n",
       "      <td>-0.240340</td>\n",
       "      <td>-0.301635</td>\n",
       "      <td>-0.013885</td>\n",
       "    </tr>\n",
       "    <tr>\n",
       "      <th>32604</th>\n",
       "      <td>-0.032406</td>\n",
       "      <td>1</td>\n",
       "      <td>1</td>\n",
       "      <td>-0.057957</td>\n",
       "      <td>0</td>\n",
       "      <td>0</td>\n",
       "      <td>0</td>\n",
       "      <td>0</td>\n",
       "      <td>0</td>\n",
       "      <td>0</td>\n",
       "      <td>...</td>\n",
       "      <td>1.207714</td>\n",
       "      <td>0.942667</td>\n",
       "      <td>0.237030</td>\n",
       "      <td>0.135582</td>\n",
       "      <td>0.089144</td>\n",
       "      <td>0.004241</td>\n",
       "      <td>-0.018355</td>\n",
       "      <td>-0.169621</td>\n",
       "      <td>-0.187816</td>\n",
       "      <td>-0.190818</td>\n",
       "    </tr>\n",
       "    <tr>\n",
       "      <th>32605</th>\n",
       "      <td>-0.988534</td>\n",
       "      <td>1</td>\n",
       "      <td>1</td>\n",
       "      <td>-0.377389</td>\n",
       "      <td>0</td>\n",
       "      <td>0</td>\n",
       "      <td>2</td>\n",
       "      <td>0</td>\n",
       "      <td>0</td>\n",
       "      <td>0</td>\n",
       "      <td>...</td>\n",
       "      <td>-0.238171</td>\n",
       "      <td>-0.203628</td>\n",
       "      <td>-0.172354</td>\n",
       "      <td>-0.628235</td>\n",
       "      <td>-0.095787</td>\n",
       "      <td>-0.246308</td>\n",
       "      <td>-0.258390</td>\n",
       "      <td>-0.262608</td>\n",
       "      <td>-0.299430</td>\n",
       "      <td>-0.284236</td>\n",
       "    </tr>\n",
       "    <tr>\n",
       "      <th>32606</th>\n",
       "      <td>-0.590148</td>\n",
       "      <td>1</td>\n",
       "      <td>2</td>\n",
       "      <td>-0.909774</td>\n",
       "      <td>1</td>\n",
       "      <td>2</td>\n",
       "      <td>-1</td>\n",
       "      <td>-1</td>\n",
       "      <td>-1</td>\n",
       "      <td>-1</td>\n",
       "      <td>...</td>\n",
       "      <td>-0.634616</td>\n",
       "      <td>-0.647995</td>\n",
       "      <td>-0.645550</td>\n",
       "      <td>-0.598120</td>\n",
       "      <td>-0.333853</td>\n",
       "      <td>-0.113468</td>\n",
       "      <td>-0.200830</td>\n",
       "      <td>-0.234150</td>\n",
       "      <td>-0.062187</td>\n",
       "      <td>0.027903</td>\n",
       "    </tr>\n",
       "    <tr>\n",
       "      <th>32607</th>\n",
       "      <td>-0.988534</td>\n",
       "      <td>0</td>\n",
       "      <td>1</td>\n",
       "      <td>-0.270911</td>\n",
       "      <td>3</td>\n",
       "      <td>2</td>\n",
       "      <td>2</td>\n",
       "      <td>2</td>\n",
       "      <td>0</td>\n",
       "      <td>0</td>\n",
       "      <td>...</td>\n",
       "      <td>-0.322870</td>\n",
       "      <td>-0.302707</td>\n",
       "      <td>-0.252230</td>\n",
       "      <td>-0.229342</td>\n",
       "      <td>-0.333992</td>\n",
       "      <td>-0.049799</td>\n",
       "      <td>-0.298163</td>\n",
       "      <td>-0.162506</td>\n",
       "      <td>-0.230498</td>\n",
       "      <td>-0.159679</td>\n",
       "    </tr>\n",
       "  </tbody>\n",
       "</table>\n",
       "<p>32608 rows × 22 columns</p>\n",
       "</div>"
      ],
      "text/plain": [
       "       LIMIT_BAL  SEX  EDUCATION       AGE  PAY_0  PAY_2  PAY_3  PAY_4  PAY_5  \\\n",
       "0      -0.988534    0          2 -0.483866     -2     -2     -2     -2     -2   \n",
       "1       0.365981    1          2 -0.483866      1      2      2      0      0   \n",
       "2       2.756301    0          4  0.261474     -2     -2     -2     -2     -2   \n",
       "3      -1.068212    0          2 -1.442160      0      0      0      0      0   \n",
       "4      -0.829180    0          2  1.326246      1      2      0      0      0   \n",
       "...          ...  ...        ...       ...    ...    ...    ...    ...    ...   \n",
       "32603   1.640818    0          1  0.367952     -1     -1     -2     -2     -1   \n",
       "32604  -0.032406    1          1 -0.057957      0      0      0      0      0   \n",
       "32605  -0.988534    1          1 -0.377389      0      0      2      0      0   \n",
       "32606  -0.590148    1          2 -0.909774      1      2     -1     -1     -1   \n",
       "32607  -0.988534    0          1 -0.270911      3      2      2      2      0   \n",
       "\n",
       "       PAY_6  ...  BILL_AMT3  BILL_AMT4  BILL_AMT5  BILL_AMT6  PAY_AMT1  \\\n",
       "0         -2  ...  -0.673717  -0.670807  -0.661895  -0.654612 -0.333992   \n",
       "1          0  ...  -0.250339  -0.229744  -0.187015  -0.175661 -0.124574   \n",
       "2         -2  ...  -0.315966  -0.034718  -0.509094  -0.508855 -0.176877   \n",
       "3          0  ...  -0.107323  -0.356802  -0.338198  -0.319214 -0.243954   \n",
       "4          0  ...  -0.386655  -0.367402  -0.350284  -0.328707 -0.333992   \n",
       "...      ...  ...        ...        ...        ...        ...       ...   \n",
       "32603     -1  ...  -0.673717  -0.670807  -0.646937  -0.654612 -0.333992   \n",
       "32604      0  ...   1.207714   0.942667   0.237030   0.135582  0.089144   \n",
       "32605      0  ...  -0.238171  -0.203628  -0.172354  -0.628235 -0.095787   \n",
       "32606     -1  ...  -0.634616  -0.647995  -0.645550  -0.598120 -0.333853   \n",
       "32607      0  ...  -0.322870  -0.302707  -0.252230  -0.229342 -0.333992   \n",
       "\n",
       "       PAY_AMT2  PAY_AMT3  PAY_AMT4  PAY_AMT5  PAY_AMT6  \n",
       "0     -0.246308 -0.298163 -0.304798 -0.301635 -0.284236  \n",
       "1     -0.246014 -0.232141 -0.231375 -0.208445 -0.159679  \n",
       "2      0.977205  2.421775  1.889631  0.316904 -0.064269  \n",
       "3     -0.152524 -0.187172  0.050932 -0.251626 -0.235970  \n",
       "4     -0.148054 -0.198231 -0.233652 -0.159361 -0.221957  \n",
       "...         ...       ...       ...       ...       ...  \n",
       "32603 -0.246308 -0.298163 -0.240340 -0.301635 -0.013885  \n",
       "32604  0.004241 -0.018355 -0.169621 -0.187816 -0.190818  \n",
       "32605 -0.246308 -0.258390 -0.262608 -0.299430 -0.284236  \n",
       "32606 -0.113468 -0.200830 -0.234150 -0.062187  0.027903  \n",
       "32607 -0.049799 -0.298163 -0.162506 -0.230498 -0.159679  \n",
       "\n",
       "[32608 rows x 22 columns]"
      ]
     },
     "execution_count": 17,
     "metadata": {},
     "output_type": "execute_result"
    }
   ],
   "source": [
    "X_train_scale"
   ]
  },
  {
   "cell_type": "code",
   "execution_count": null,
   "id": "b87dcb9d",
   "metadata": {},
   "outputs": [],
   "source": [
    "from sklearn.neighbors import KNeighborsClassifier\n",
    "knn_clf = KNeighborsClassifier()\n",
    "random_param = {\n",
    "    \"n_neighbors\" : [3,4,5,6,7],\n",
    "    'leaf_size' : [30,40,20,50,45],\n",
    "}\n"
   ]
  },
  {
   "cell_type": "code",
   "execution_count": null,
   "id": "1178159e",
   "metadata": {},
   "outputs": [],
   "source": [
    "random_search = RandomizedSearchCV(n_iter=50,estimator=knn_clf,param_distributions=random_param,cv=5,n_jobs =-1,verbose = 3)\n",
    "random_search.fit(X_train_scale, Y_train_ns)"
   ]
  },
  {
   "cell_type": "markdown",
   "id": "98c3a6b1",
   "metadata": {},
   "source": [
    "### KNN Classifier"
   ]
  },
  {
   "cell_type": "code",
   "execution_count": 41,
   "id": "c5664214",
   "metadata": {
    "scrolled": false
   },
   "outputs": [
    {
     "name": "stderr",
     "output_type": "stream",
     "text": [
      "C:\\Users\\bijoy\\anaconda3\\lib\\site-packages\\sklearn\\neighbors\\_classification.py:179: DataConversionWarning: A column-vector y was passed when a 1d array was expected. Please change the shape of y to (n_samples,), for example using ravel().\n",
      "  return self._fit(X, y)\n"
     ]
    },
    {
     "data": {
      "text/plain": [
       "KNeighborsClassifier(n_neighbors=4)"
      ]
     },
     "execution_count": 41,
     "metadata": {},
     "output_type": "execute_result"
    }
   ],
   "source": [
    "from sklearn.neighbors import KNeighborsClassifier\n",
    "neigh = KNeighborsClassifier(n_neighbors=4)\n",
    "neigh.fit(X_train_scale, Y_train_ns)"
   ]
  },
  {
   "cell_type": "code",
   "execution_count": 42,
   "id": "745d8fe2",
   "metadata": {},
   "outputs": [],
   "source": [
    "y_pred = neigh.predict(X_test)"
   ]
  },
  {
   "cell_type": "code",
   "execution_count": 36,
   "id": "05979b67",
   "metadata": {},
   "outputs": [
    {
     "name": "stdout",
     "output_type": "stream",
     "text": [
      "              precision    recall  f1-score   support\n",
      "\n",
      "           0       0.84      0.82      0.83      7060\n",
      "           1       0.39      0.43      0.41      1940\n",
      "\n",
      "    accuracy                           0.73      9000\n",
      "   macro avg       0.62      0.62      0.62      9000\n",
      "weighted avg       0.74      0.73      0.74      9000\n",
      "\n"
     ]
    }
   ],
   "source": [
    "#anasyn\n",
    "print(classification_report(Y_test, y_pred))"
   ]
  },
  {
   "cell_type": "code",
   "execution_count": 43,
   "id": "bbb3571e",
   "metadata": {},
   "outputs": [
    {
     "name": "stdout",
     "output_type": "stream",
     "text": [
      "              precision    recall  f1-score   support\n",
      "\n",
      "           0       0.83      0.82      0.83      7060\n",
      "           1       0.39      0.41      0.40      1940\n",
      "\n",
      "    accuracy                           0.73      9000\n",
      "   macro avg       0.61      0.61      0.61      9000\n",
      "weighted avg       0.74      0.73      0.74      9000\n",
      "\n"
     ]
    }
   ],
   "source": [
    "#smote\n",
    "print(classification_report(Y_test, y_pred))"
   ]
  },
  {
   "cell_type": "markdown",
   "id": "1fad570f",
   "metadata": {},
   "source": [
    "### SVC"
   ]
  },
  {
   "cell_type": "code",
   "execution_count": 32,
   "id": "8cc34d8e",
   "metadata": {
    "scrolled": true
   },
   "outputs": [
    {
     "name": "stderr",
     "output_type": "stream",
     "text": [
      "C:\\Users\\bijoy\\anaconda3\\lib\\site-packages\\sklearn\\utils\\validation.py:63: DataConversionWarning: A column-vector y was passed when a 1d array was expected. Please change the shape of y to (n_samples, ), for example using ravel().\n",
      "  return f(*args, **kwargs)\n"
     ]
    },
    {
     "data": {
      "text/plain": [
       "SVC()"
      ]
     },
     "execution_count": 32,
     "metadata": {},
     "output_type": "execute_result"
    }
   ],
   "source": [
    "from sklearn.svm import SVC\n",
    "svc_clf = SVC()\n",
    "svc_clf.fit(X_train_scale, Y_train_ns)"
   ]
  },
  {
   "cell_type": "code",
   "execution_count": 33,
   "id": "5b3b91b3",
   "metadata": {},
   "outputs": [
    {
     "name": "stderr",
     "output_type": "stream",
     "text": [
      "C:\\Users\\bijoy\\anaconda3\\lib\\site-packages\\sklearn\\utils\\validation.py:63: DataConversionWarning: A column-vector y was passed when a 1d array was expected. Please change the shape of y to (n_samples, ), for example using ravel().\n",
      "  return f(*args, **kwargs)\n",
      "C:\\Users\\bijoy\\anaconda3\\lib\\site-packages\\sklearn\\utils\\validation.py:63: DataConversionWarning: A column-vector y was passed when a 1d array was expected. Please change the shape of y to (n_samples, ), for example using ravel().\n",
      "  return f(*args, **kwargs)\n",
      "C:\\Users\\bijoy\\anaconda3\\lib\\site-packages\\sklearn\\utils\\validation.py:63: DataConversionWarning: A column-vector y was passed when a 1d array was expected. Please change the shape of y to (n_samples, ), for example using ravel().\n",
      "  return f(*args, **kwargs)\n",
      "C:\\Users\\bijoy\\anaconda3\\lib\\site-packages\\sklearn\\utils\\validation.py:63: DataConversionWarning: A column-vector y was passed when a 1d array was expected. Please change the shape of y to (n_samples, ), for example using ravel().\n",
      "  return f(*args, **kwargs)\n",
      "C:\\Users\\bijoy\\anaconda3\\lib\\site-packages\\sklearn\\utils\\validation.py:63: DataConversionWarning: A column-vector y was passed when a 1d array was expected. Please change the shape of y to (n_samples, ), for example using ravel().\n",
      "  return f(*args, **kwargs)\n"
     ]
    },
    {
     "name": "stdout",
     "output_type": "stream",
     "text": [
      "0.7801868356908443\n"
     ]
    }
   ],
   "source": [
    "from sklearn.model_selection import cross_val_score\n",
    "cv_score = cross_val_score(svc_clf, X_train_scale, Y_train_ns, scoring=\"roc_auc\", cv = 5)\n",
    "print(cv_score.mean())"
   ]
  },
  {
   "cell_type": "code",
   "execution_count": 25,
   "id": "18a9b41c",
   "metadata": {},
   "outputs": [],
   "source": [
    "y_pred_SVC = svc_clf.predict(X_test)"
   ]
  },
  {
   "cell_type": "code",
   "execution_count": 22,
   "id": "f1d394cb",
   "metadata": {},
   "outputs": [
    {
     "data": {
      "text/plain": [
       "1"
      ]
     },
     "execution_count": 22,
     "metadata": {},
     "output_type": "execute_result"
    }
   ],
   "source": [
    "y_pred_SVC[0]"
   ]
  },
  {
   "cell_type": "code",
   "execution_count": 29,
   "id": "612e9df3",
   "metadata": {
    "scrolled": false
   },
   "outputs": [
    {
     "name": "stdout",
     "output_type": "stream",
     "text": [
      "              precision    recall  f1-score   support\n",
      "\n",
      "           0       0.88      0.85      0.86      7060\n",
      "           1       0.50      0.57      0.53      1940\n",
      "\n",
      "    accuracy                           0.79      9000\n",
      "   macro avg       0.69      0.71      0.70      9000\n",
      "weighted avg       0.80      0.79      0.79      9000\n",
      "\n"
     ]
    }
   ],
   "source": [
    "\n",
    "print(classification_report(Y_test, y_pred_SVC))"
   ]
  },
  {
   "cell_type": "code",
   "execution_count": 30,
   "id": "8f42023c",
   "metadata": {},
   "outputs": [
    {
     "data": {
      "text/plain": [
       "0.7054656698110453"
      ]
     },
     "execution_count": 30,
     "metadata": {},
     "output_type": "execute_result"
    }
   ],
   "source": [
    "from sklearn.metrics import roc_auc_score\n",
    "roc_auc_score(Y_test, y_pred_SVC)"
   ]
  },
  {
   "cell_type": "code",
   "execution_count": 26,
   "id": "a2be7408",
   "metadata": {},
   "outputs": [
    {
     "name": "stdout",
     "output_type": "stream",
     "text": [
      "              precision    recall  f1-score   support\n",
      "\n",
      "           0       0.87      0.85      0.86      7060\n",
      "           1       0.50      0.56      0.53      1940\n",
      "\n",
      "    accuracy                           0.78      9000\n",
      "   macro avg       0.69      0.70      0.69      9000\n",
      "weighted avg       0.79      0.78      0.79      9000\n",
      "\n"
     ]
    }
   ],
   "source": [
    "from sklearn.metrics import classification_report\n",
    "print(classification_report(Y_test, y_pred_SVC))"
   ]
  },
  {
   "cell_type": "code",
   "execution_count": 27,
   "id": "84d7bd24",
   "metadata": {},
   "outputs": [
    {
     "data": {
      "text/plain": [
       "0.7025853508951257"
      ]
     },
     "execution_count": 27,
     "metadata": {},
     "output_type": "execute_result"
    }
   ],
   "source": [
    "from sklearn.metrics import roc_auc_score\n",
    "roc_auc_score(Y_test, y_pred_SVC)"
   ]
  },
  {
   "cell_type": "code",
   "execution_count": 29,
   "id": "e0680c97",
   "metadata": {},
   "outputs": [
    {
     "data": {
      "text/plain": [
       "array([[5923, 1137],\n",
       "       [ 829, 1111]], dtype=int64)"
      ]
     },
     "execution_count": 29,
     "metadata": {},
     "output_type": "execute_result"
    }
   ],
   "source": [
    "confusion_matrix(Y_test, y_pred_SVC)"
   ]
  },
  {
   "cell_type": "code",
   "execution_count": 13,
   "id": "aa307755",
   "metadata": {},
   "outputs": [
    {
     "name": "stderr",
     "output_type": "stream",
     "text": [
      "C:\\Users\\bijoy\\anaconda3\\lib\\site-packages\\sklearn\\utils\\validation.py:63: DataConversionWarning: A column-vector y was passed when a 1d array was expected. Please change the shape of y to (n_samples, ), for example using ravel().\n",
      "  return f(*args, **kwargs)\n"
     ]
    },
    {
     "data": {
      "text/plain": [
       "GradientBoostingClassifier()"
      ]
     },
     "execution_count": 13,
     "metadata": {},
     "output_type": "execute_result"
    }
   ],
   "source": [
    "from sklearn.ensemble import GradientBoostingClassifier\n",
    "gbc = GradientBoostingClassifier()\n",
    "gbc.fit(X_train_ns, Y_train_ns)"
   ]
  },
  {
   "cell_type": "code",
   "execution_count": 14,
   "id": "ccc0ae9f",
   "metadata": {},
   "outputs": [],
   "source": [
    "y_predGB = gbc.predict(X_test)"
   ]
  },
  {
   "cell_type": "code",
   "execution_count": 37,
   "id": "714bc286",
   "metadata": {},
   "outputs": [
    {
     "data": {
      "text/plain": [
       "array([[0.20463512, 0.79536488],\n",
       "       [0.21081104, 0.78918896],\n",
       "       [0.28069598, 0.71930402],\n",
       "       ...,\n",
       "       [0.27507572, 0.72492428],\n",
       "       [0.39106416, 0.60893584],\n",
       "       [0.29641174, 0.70358826]])"
      ]
     },
     "execution_count": 37,
     "metadata": {},
     "output_type": "execute_result"
    }
   ],
   "source": [
    "gbc.predict_proba(X_test)"
   ]
  },
  {
   "cell_type": "code",
   "execution_count": 15,
   "id": "d3f46cad",
   "metadata": {},
   "outputs": [
    {
     "name": "stdout",
     "output_type": "stream",
     "text": [
      "              precision    recall  f1-score   support\n",
      "\n",
      "           0       0.88      0.81      0.84      7060\n",
      "           1       0.47      0.62      0.53      1940\n",
      "\n",
      "    accuracy                           0.77      9000\n",
      "   macro avg       0.68      0.71      0.69      9000\n",
      "weighted avg       0.79      0.77      0.78      9000\n",
      "\n"
     ]
    }
   ],
   "source": [
    "from sklearn.metrics import classification_report\n",
    "print(classification_report(Y_test, y_predGB))"
   ]
  },
  {
   "cell_type": "code",
   "execution_count": 16,
   "id": "bc279c08",
   "metadata": {},
   "outputs": [
    {
     "data": {
      "text/plain": [
       "0.7124653193539908"
      ]
     },
     "execution_count": 16,
     "metadata": {},
     "output_type": "execute_result"
    }
   ],
   "source": [
    "from sklearn.metrics import roc_auc_score\n",
    "roc_auc_score(Y_test, y_predGB)"
   ]
  },
  {
   "cell_type": "code",
   "execution_count": 21,
   "id": "ce58747a",
   "metadata": {},
   "outputs": [
    {
     "name": "stderr",
     "output_type": "stream",
     "text": [
      "C:\\Users\\bijoy\\anaconda3\\lib\\site-packages\\sklearn\\utils\\validation.py:63: DataConversionWarning: A column-vector y was passed when a 1d array was expected. Please change the shape of y to (n_samples, ), for example using ravel().\n",
      "  return f(*args, **kwargs)\n",
      "C:\\Users\\bijoy\\anaconda3\\lib\\site-packages\\sklearn\\utils\\validation.py:63: DataConversionWarning: A column-vector y was passed when a 1d array was expected. Please change the shape of y to (n_samples, ), for example using ravel().\n",
      "  return f(*args, **kwargs)\n",
      "C:\\Users\\bijoy\\anaconda3\\lib\\site-packages\\sklearn\\utils\\validation.py:63: DataConversionWarning: A column-vector y was passed when a 1d array was expected. Please change the shape of y to (n_samples, ), for example using ravel().\n",
      "  return f(*args, **kwargs)\n",
      "C:\\Users\\bijoy\\anaconda3\\lib\\site-packages\\sklearn\\utils\\validation.py:63: DataConversionWarning: A column-vector y was passed when a 1d array was expected. Please change the shape of y to (n_samples, ), for example using ravel().\n",
      "  return f(*args, **kwargs)\n",
      "C:\\Users\\bijoy\\anaconda3\\lib\\site-packages\\sklearn\\utils\\validation.py:63: DataConversionWarning: A column-vector y was passed when a 1d array was expected. Please change the shape of y to (n_samples, ), for example using ravel().\n",
      "  return f(*args, **kwargs)\n",
      "C:\\Users\\bijoy\\anaconda3\\lib\\site-packages\\sklearn\\utils\\validation.py:63: DataConversionWarning: A column-vector y was passed when a 1d array was expected. Please change the shape of y to (n_samples, ), for example using ravel().\n",
      "  return f(*args, **kwargs)\n",
      "C:\\Users\\bijoy\\anaconda3\\lib\\site-packages\\sklearn\\utils\\validation.py:63: DataConversionWarning: A column-vector y was passed when a 1d array was expected. Please change the shape of y to (n_samples, ), for example using ravel().\n",
      "  return f(*args, **kwargs)\n",
      "C:\\Users\\bijoy\\anaconda3\\lib\\site-packages\\sklearn\\utils\\validation.py:63: DataConversionWarning: A column-vector y was passed when a 1d array was expected. Please change the shape of y to (n_samples, ), for example using ravel().\n",
      "  return f(*args, **kwargs)\n",
      "C:\\Users\\bijoy\\anaconda3\\lib\\site-packages\\sklearn\\utils\\validation.py:63: DataConversionWarning: A column-vector y was passed when a 1d array was expected. Please change the shape of y to (n_samples, ), for example using ravel().\n",
      "  return f(*args, **kwargs)\n",
      "C:\\Users\\bijoy\\anaconda3\\lib\\site-packages\\sklearn\\utils\\validation.py:63: DataConversionWarning: A column-vector y was passed when a 1d array was expected. Please change the shape of y to (n_samples, ), for example using ravel().\n",
      "  return f(*args, **kwargs)\n"
     ]
    },
    {
     "name": "stdout",
     "output_type": "stream",
     "text": [
      "0.7993548576789715\n"
     ]
    }
   ],
   "source": [
    "from sklearn.model_selection import cross_val_score\n",
    "cv_score = cross_val_score(gbc, X_train_ns, Y_train_ns, scoring=\"roc_auc\", cv = 10)\n",
    "print(cv_score.mean())"
   ]
  },
  {
   "cell_type": "code",
   "execution_count": 36,
   "id": "1866c3b2",
   "metadata": {},
   "outputs": [],
   "source": [
    "with open('GradientBoostingClassifier.sav','wb') as f:\n",
    "    pickle.dump(gbc,f)"
   ]
  },
  {
   "cell_type": "code",
   "execution_count": 17,
   "id": "8d4b2e59",
   "metadata": {},
   "outputs": [],
   "source": [
    "param = {\n",
    "    \"loss\":[\"deviance\",\"exponential\"],\n",
    "    \"learning_rate\": [0.1,0.01,1],\n",
    "    \"n_estimators\": [90, 100, 110, 120],\n",
    "    \"criterion\": [\"friedman_mse\"],\n",
    "    \"max_depth\": [3, 5, 10],\n",
    "    \"max_features\": [\"auto\", \"sqrt\",\"log2\"]\n",
    "}"
   ]
  },
  {
   "cell_type": "code",
   "execution_count": 3,
   "id": "ba9d130b",
   "metadata": {
    "scrolled": true
   },
   "outputs": [
    {
     "ename": "NameError",
     "evalue": "name 'gbc' is not defined",
     "output_type": "error",
     "traceback": [
      "\u001b[1;31m---------------------------------------------------------------------------\u001b[0m",
      "\u001b[1;31mNameError\u001b[0m                                 Traceback (most recent call last)",
      "\u001b[1;32m<ipython-input-3-e61dee58dd5b>\u001b[0m in \u001b[0;36m<module>\u001b[1;34m\u001b[0m\n\u001b[0;32m      1\u001b[0m \u001b[1;32mfrom\u001b[0m \u001b[0msklearn\u001b[0m\u001b[1;33m.\u001b[0m\u001b[0mmodel_selection\u001b[0m \u001b[1;32mimport\u001b[0m \u001b[0mRandomizedSearchCV\u001b[0m\u001b[1;33m\u001b[0m\u001b[1;33m\u001b[0m\u001b[0m\n\u001b[1;32m----> 2\u001b[1;33m \u001b[0mrandom_search\u001b[0m \u001b[1;33m=\u001b[0m \u001b[0mRandomizedSearchCV\u001b[0m\u001b[1;33m(\u001b[0m\u001b[0mn_iter\u001b[0m\u001b[1;33m=\u001b[0m\u001b[1;36m100\u001b[0m\u001b[1;33m,\u001b[0m\u001b[0mestimator\u001b[0m\u001b[1;33m=\u001b[0m\u001b[0mgbc\u001b[0m\u001b[1;33m,\u001b[0m\u001b[0mparam_distributions\u001b[0m\u001b[1;33m=\u001b[0m\u001b[0mparam\u001b[0m\u001b[1;33m,\u001b[0m\u001b[0mcv\u001b[0m\u001b[1;33m=\u001b[0m\u001b[1;36m5\u001b[0m\u001b[1;33m,\u001b[0m\u001b[0mn_jobs\u001b[0m \u001b[1;33m=\u001b[0m\u001b[1;33m-\u001b[0m\u001b[1;36m1\u001b[0m\u001b[1;33m,\u001b[0m\u001b[0mverbose\u001b[0m \u001b[1;33m=\u001b[0m \u001b[1;36m3\u001b[0m\u001b[1;33m)\u001b[0m\u001b[1;33m\u001b[0m\u001b[1;33m\u001b[0m\u001b[0m\n\u001b[0m\u001b[0;32m      3\u001b[0m \u001b[0mtunedgbc\u001b[0m \u001b[1;33m=\u001b[0m \u001b[0mrandom_search\u001b[0m\u001b[1;33m.\u001b[0m\u001b[0mfit\u001b[0m\u001b[1;33m(\u001b[0m\u001b[0mX_train_ns\u001b[0m\u001b[1;33m,\u001b[0m \u001b[0mY_train_ns\u001b[0m\u001b[1;33m)\u001b[0m\u001b[1;33m\u001b[0m\u001b[1;33m\u001b[0m\u001b[0m\n",
      "\u001b[1;31mNameError\u001b[0m: name 'gbc' is not defined"
     ]
    }
   ],
   "source": [
    "from sklearn.model_selection import RandomizedSearchCV\n",
    "random_search = RandomizedSearchCV(n_iter=100,estimator=gbc,param_distributions=param,cv=5,n_jobs =-1,verbose = 3)\n",
    "tunedgbc = random_search.fit(X_train_ns, Y_train_ns)"
   ]
  },
  {
   "cell_type": "code",
   "execution_count": null,
   "id": "0944fbc5",
   "metadata": {},
   "outputs": [],
   "source": [
    "#Tried performing RandomSearchcv and it is taking like forever i sat there for 6 hour straight still didn't get aby result\n",
    "#only it worked for randomforest took like 2 hour"
   ]
  }
 ],
 "metadata": {
  "kernelspec": {
   "display_name": "Python 3",
   "language": "python",
   "name": "python3"
  },
  "language_info": {
   "codemirror_mode": {
    "name": "ipython",
    "version": 3
   },
   "file_extension": ".py",
   "mimetype": "text/x-python",
   "name": "python",
   "nbconvert_exporter": "python",
   "pygments_lexer": "ipython3",
   "version": "3.8.8"
  }
 },
 "nbformat": 4,
 "nbformat_minor": 5
}
